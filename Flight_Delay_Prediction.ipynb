{
 "cells": [
  {
   "cell_type": "code",
   "execution_count": 1,
   "id": "97d9ce46",
   "metadata": {
    "_cell_guid": "b1076dfc-b9ad-4769-8c92-a6c4dae69d19",
    "_uuid": "8f2839f25d086af736a60e9eeb907d3b93b6e0e5",
    "execution": {
     "iopub.execute_input": "2022-03-20T13:11:24.860176Z",
     "iopub.status.busy": "2022-03-20T13:11:24.858744Z",
     "iopub.status.idle": "2022-03-20T13:11:24.877996Z",
     "shell.execute_reply": "2022-03-20T13:11:24.877258Z",
     "shell.execute_reply.started": "2022-03-20T10:26:05.154346Z"
    },
    "papermill": {
     "duration": 0.080113,
     "end_time": "2022-03-20T13:11:24.878190",
     "exception": false,
     "start_time": "2022-03-20T13:11:24.798077",
     "status": "completed"
    },
    "tags": []
   },
   "outputs": [],
   "source": [
    "import numpy as np\n",
    "import pandas as pd\n",
    "import os"
   ]
  },
  {
   "cell_type": "code",
   "execution_count": 2,
   "id": "2202748f",
   "metadata": {
    "execution": {
     "iopub.execute_input": "2022-03-20T13:12:15.420431Z",
     "iopub.status.busy": "2022-03-20T13:12:15.419624Z",
     "iopub.status.idle": "2022-03-20T13:12:20.738999Z",
     "shell.execute_reply": "2022-03-20T13:12:20.739588Z",
     "shell.execute_reply.started": "2022-03-20T10:27:00.144338Z"
    },
    "papermill": {
     "duration": 5.536175,
     "end_time": "2022-03-20T13:12:20.739878",
     "exception": false,
     "start_time": "2022-03-20T13:12:15.203703",
     "status": "completed"
    },
    "tags": []
   },
   "outputs": [
    {
     "name": "stderr",
     "output_type": "stream",
     "text": [
      "22/04/18 21:12:45 WARN Utils: Your hostname, MSI resolves to a loopback address: 127.0.1.1; using 172.28.44.162 instead (on interface eth0)\n",
      "22/04/18 21:12:45 WARN Utils: Set SPARK_LOCAL_IP if you need to bind to another address\n",
      "WARNING: An illegal reflective access operation has occurred\n",
      "WARNING: Illegal reflective access by org.apache.spark.unsafe.Platform (file:/home/lokesh/.local/lib/python3.8/site-packages/pyspark/jars/spark-unsafe_2.12-3.2.1.jar) to constructor java.nio.DirectByteBuffer(long,int)\n",
      "WARNING: Please consider reporting this to the maintainers of org.apache.spark.unsafe.Platform\n",
      "WARNING: Use --illegal-access=warn to enable warnings of further illegal reflective access operations\n",
      "WARNING: All illegal access operations will be denied in a future release\n",
      "Using Spark's default log4j profile: org/apache/spark/log4j-defaults.properties\n",
      "Setting default log level to \"WARN\".\n",
      "To adjust logging level use sc.setLogLevel(newLevel). For SparkR, use setLogLevel(newLevel).\n",
      "22/04/18 21:12:47 WARN NativeCodeLoader: Unable to load native-hadoop library for your platform... using builtin-java classes where applicable\n"
     ]
    },
    {
     "name": "stdout",
     "output_type": "stream",
     "text": [
      "3.2.1\n"
     ]
    }
   ],
   "source": [
    "from pyspark import SparkContext, SparkConf\n",
    "sc = SparkContext('local')\n",
    "print(sc.version)"
   ]
  },
  {
   "cell_type": "code",
   "execution_count": 3,
   "id": "fd0da3eb",
   "metadata": {
    "execution": {
     "iopub.execute_input": "2022-03-20T13:12:21.161721Z",
     "iopub.status.busy": "2022-03-20T13:12:21.160947Z",
     "iopub.status.idle": "2022-03-20T13:12:21.357510Z",
     "shell.execute_reply": "2022-03-20T13:12:21.358105Z",
     "shell.execute_reply.started": "2022-03-20T10:27:05.936448Z"
    },
    "papermill": {
     "duration": 0.408702,
     "end_time": "2022-03-20T13:12:21.358330",
     "exception": false,
     "start_time": "2022-03-20T13:12:20.949628",
     "status": "completed"
    },
    "tags": []
   },
   "outputs": [
    {
     "name": "stdout",
     "output_type": "stream",
     "text": [
      "<pyspark.sql.session.SparkSession object at 0x7f5f080c8eb0>\n"
     ]
    }
   ],
   "source": [
    "from pyspark.sql import SparkSession\n",
    "spark = SparkSession.builder.getOrCreate()\n",
    "# Print my_spark\n",
    "print(spark)"
   ]
  },
  {
   "cell_type": "code",
   "execution_count": 4,
   "id": "7fec323b",
   "metadata": {
    "execution": {
     "iopub.execute_input": "2022-03-20T13:12:21.778663Z",
     "iopub.status.busy": "2022-03-20T13:12:21.777698Z",
     "iopub.status.idle": "2022-03-20T13:12:26.108038Z",
     "shell.execute_reply": "2022-03-20T13:12:26.107083Z",
     "shell.execute_reply.started": "2022-03-20T10:27:06.128228Z"
    },
    "papermill": {
     "duration": 4.542264,
     "end_time": "2022-03-20T13:12:26.108312",
     "exception": false,
     "start_time": "2022-03-20T13:12:21.566048",
     "status": "completed"
    },
    "tags": []
   },
   "outputs": [
    {
     "name": "stdout",
     "output_type": "stream",
     "text": [
      "[]\n"
     ]
    }
   ],
   "source": [
    "# Print the tables in the catalog\n",
    "print(spark.catalog.listTables())"
   ]
  },
  {
   "cell_type": "code",
   "execution_count": 5,
   "id": "201dc356",
   "metadata": {
    "execution": {
     "iopub.execute_input": "2022-03-20T13:12:26.534603Z",
     "iopub.status.busy": "2022-03-20T13:12:26.533824Z",
     "iopub.status.idle": "2022-03-20T13:12:28.404557Z",
     "shell.execute_reply": "2022-03-20T13:12:28.403489Z",
     "shell.execute_reply.started": "2022-03-20T10:27:11.371901Z"
    },
    "papermill": {
     "duration": 2.084415,
     "end_time": "2022-03-20T13:12:28.404871",
     "exception": false,
     "start_time": "2022-03-20T13:12:26.320456",
     "status": "completed"
    },
    "tags": []
   },
   "outputs": [
    {
     "name": "stdout",
     "output_type": "stream",
     "text": [
      "[]\n",
      "[Table(name='temp', database=None, description=None, tableType='TEMPORARY', isTemporary=True)]\n"
     ]
    }
   ],
   "source": [
    "# Create pd_temp\n",
    "pd_temp = pd.DataFrame(np.random.random(10))\n",
    "\n",
    "# Create spark_temp from pd_temp\n",
    "spark_temp = spark.createDataFrame(pd_temp)\n",
    "\n",
    "# Examine the tables in the catalog\n",
    "print(spark.catalog.listTables())\n",
    "\n",
    "# Add spark_temp to the catalog\n",
    "spark_temp.createOrReplaceTempView('temp')\n",
    "\n",
    "# Examine the tables in the catalog again\n",
    "print(spark.catalog.listTables())"
   ]
  },
  {
   "cell_type": "code",
   "execution_count": 7,
   "id": "59f9f14d",
   "metadata": {
    "execution": {
     "iopub.execute_input": "2022-03-20T13:12:28.890704Z",
     "iopub.status.busy": "2022-03-20T13:12:28.889575Z",
     "iopub.status.idle": "2022-03-20T13:12:30.541008Z",
     "shell.execute_reply": "2022-03-20T13:12:30.540111Z",
     "shell.execute_reply.started": "2022-03-20T10:27:13.913879Z"
    },
    "papermill": {
     "duration": 1.865783,
     "end_time": "2022-03-20T13:12:30.541268",
     "exception": false,
     "start_time": "2022-03-20T13:12:28.675485",
     "status": "completed"
    },
    "tags": []
   },
   "outputs": [
    {
     "name": "stdout",
     "output_type": "stream",
     "text": [
      "+---------+--------------------+-------------+-----+-------+--------+----------+\n",
      "|IATA_CODE|             AIRPORT|         CITY|STATE|COUNTRY|LATITUDE| LONGITUDE|\n",
      "+---------+--------------------+-------------+-----+-------+--------+----------+\n",
      "|      ABE|Lehigh Valley Int...|    Allentown|   PA|    USA|40.65236| -75.44040|\n",
      "|      ABI|Abilene Regional ...|      Abilene|   TX|    USA|32.41132| -99.68190|\n",
      "|      ABQ|Albuquerque Inter...|  Albuquerque|   NM|    USA|35.04022|-106.60919|\n",
      "|      ABR|Aberdeen Regional...|     Aberdeen|   SD|    USA|45.44906| -98.42183|\n",
      "|      ABY|Southwest Georgia...|       Albany|   GA|    USA|31.53552| -84.19447|\n",
      "|      ACK|Nantucket Memoria...|    Nantucket|   MA|    USA|41.25305| -70.06018|\n",
      "|      ACT|Waco Regional Air...|         Waco|   TX|    USA|31.61129| -97.23052|\n",
      "|      ACV|      Arcata Airport|Arcata/Eureka|   CA|    USA|40.97812|-124.10862|\n",
      "|      ACY|Atlantic City Int...|Atlantic City|   NJ|    USA|39.45758| -74.57717|\n",
      "|      ADK|        Adak Airport|         Adak|   AK|    USA|51.87796|-176.64603|\n",
      "+---------+--------------------+-------------+-----+-------+--------+----------+\n",
      "only showing top 10 rows\n",
      "\n"
     ]
    }
   ],
   "source": [
    "# Read in the airports data\n",
    "airports = spark.read.csv(['/mnt/c/Users/lokes/Downloads/airports.csv'], header = True)\n",
    "\n",
    "# Show the data\n",
    "airports.show(10)"
   ]
  },
  {
   "cell_type": "code",
   "execution_count": 9,
   "id": "1e0457b1",
   "metadata": {
    "execution": {
     "iopub.execute_input": "2022-03-20T13:12:30.990797Z",
     "iopub.status.busy": "2022-03-20T13:12:30.989980Z",
     "iopub.status.idle": "2022-03-20T13:12:40.192188Z",
     "shell.execute_reply": "2022-03-20T13:12:40.191310Z",
     "shell.execute_reply.started": "2022-03-20T10:27:15.812891Z"
    },
    "papermill": {
     "duration": 9.419159,
     "end_time": "2022-03-20T13:12:40.192436",
     "exception": false,
     "start_time": "2022-03-20T13:12:30.773277",
     "status": "completed"
    },
    "tags": []
   },
   "outputs": [
    {
     "name": "stderr",
     "output_type": "stream",
     "text": [
      "22/04/18 21:15:54 WARN package: Truncated the string representation of a plan since it was too large. This behavior can be adjusted by setting 'spark.sql.debug.maxToStringFields'.\n"
     ]
    },
    {
     "name": "stdout",
     "output_type": "stream",
     "text": [
      "(5819079, 31)\n",
      "[Table(name='temp', database=None, description=None, tableType='TEMPORARY', isTemporary=True)]\n",
      "[Table(name='flights', database=None, description=None, tableType='TEMPORARY', isTemporary=True), Table(name='temp', database=None, description=None, tableType='TEMPORARY', isTemporary=True)]\n"
     ]
    }
   ],
   "source": [
    "# Read in the airports data\n",
    "flights = spark.read.csv(['/mnt/c/Users/lokes/Downloads/flights.csv'], header = True)\n",
    "\n",
    "# Show the data shape\n",
    "print((flights.count(), len(flights.columns)))\n",
    "\n",
    "# print the tables in catalog\n",
    "print(spark.catalog.listTables())\n",
    "\n",
    "# adding data into spark view for sql querying\n",
    "flights.createOrReplaceTempView('flights')\n",
    "\n",
    "# print the tables in catalog\n",
    "print(spark.catalog.listTables())"
   ]
  },
  {
   "cell_type": "code",
   "execution_count": 10,
   "id": "b662197a",
   "metadata": {
    "execution": {
     "iopub.execute_input": "2022-03-20T13:12:40.687297Z",
     "iopub.status.busy": "2022-03-20T13:12:40.686592Z",
     "iopub.status.idle": "2022-03-20T13:12:40.689663Z",
     "shell.execute_reply": "2022-03-20T13:12:40.690410Z",
     "shell.execute_reply.started": "2022-03-20T10:27:25.599900Z"
    },
    "papermill": {
     "duration": 0.222909,
     "end_time": "2022-03-20T13:12:40.690640",
     "exception": false,
     "start_time": "2022-03-20T13:12:40.467731",
     "status": "completed"
    },
    "tags": []
   },
   "outputs": [
    {
     "name": "stdout",
     "output_type": "stream",
     "text": [
      "['YEAR', 'MONTH', 'DAY', 'DAY_OF_WEEK', 'AIRLINE', 'FLIGHT_NUMBER', 'TAIL_NUMBER', 'ORIGIN_AIRPORT', 'DESTINATION_AIRPORT', 'SCHEDULED_DEPARTURE', 'DEPARTURE_TIME', 'DEPARTURE_DELAY', 'TAXI_OUT', 'WHEELS_OFF', 'SCHEDULED_TIME', 'ELAPSED_TIME', 'AIR_TIME', 'DISTANCE', 'WHEELS_ON', 'TAXI_IN', 'SCHEDULED_ARRIVAL', 'ARRIVAL_TIME', 'ARRIVAL_DELAY', 'DIVERTED', 'CANCELLED', 'CANCELLATION_REASON', 'AIR_SYSTEM_DELAY', 'SECURITY_DELAY', 'AIRLINE_DELAY', 'LATE_AIRCRAFT_DELAY', 'WEATHER_DELAY']\n"
     ]
    }
   ],
   "source": [
    "# see all columns in the table \n",
    "print(flights.columns)"
   ]
  },
  {
   "cell_type": "code",
   "execution_count": 11,
   "id": "183ad0e0",
   "metadata": {
    "execution": {
     "iopub.execute_input": "2022-03-20T13:12:41.127051Z",
     "iopub.status.busy": "2022-03-20T13:12:41.126296Z",
     "iopub.status.idle": "2022-03-20T13:12:41.443981Z",
     "shell.execute_reply": "2022-03-20T13:12:41.442457Z",
     "shell.execute_reply.started": "2022-03-20T10:27:25.610520Z"
    },
    "papermill": {
     "duration": 0.536878,
     "end_time": "2022-03-20T13:12:41.444261",
     "exception": false,
     "start_time": "2022-03-20T13:12:40.907383",
     "status": "completed"
    },
    "tags": []
   },
   "outputs": [
    {
     "name": "stdout",
     "output_type": "stream",
     "text": [
      "+-------+-------------+-----------+--------------+-------------------+-------------------+\n",
      "|AIRLINE|FLIGHT_NUMBER|TAIL_NUMBER|ORIGIN_AIRPORT|DESTINATION_AIRPORT|SCHEDULED_DEPARTURE|\n",
      "+-------+-------------+-----------+--------------+-------------------+-------------------+\n",
      "|     AS|           98|     N407AS|           ANC|                SEA|               0005|\n",
      "|     AA|         2336|     N3KUAA|           LAX|                PBI|               0010|\n",
      "|     US|          840|     N171US|           SFO|                CLT|               0020|\n",
      "|     AA|          258|     N3HYAA|           LAX|                MIA|               0020|\n",
      "|     AS|          135|     N527AS|           SEA|                ANC|               0025|\n",
      "+-------+-------------+-----------+--------------+-------------------+-------------------+\n",
      "\n"
     ]
    }
   ],
   "source": [
    "# Don't change this query\n",
    "query = \"SELECT AIRLINE, FLIGHT_NUMBER, TAIL_NUMBER, ORIGIN_AIRPORT, DESTINATION_AIRPORT, SCHEDULED_DEPARTURE FROM flights LIMIT 5\"\n",
    "\n",
    "# Get the first 10 rows of flights\n",
    "flights5 = spark.sql(query)\n",
    "\n",
    "# Show the results\n",
    "flights5.show()"
   ]
  },
  {
   "cell_type": "code",
   "execution_count": 12,
   "id": "08997fe0",
   "metadata": {
    "execution": {
     "iopub.execute_input": "2022-03-20T13:12:42.069276Z",
     "iopub.status.busy": "2022-03-20T13:12:42.068249Z",
     "iopub.status.idle": "2022-03-20T13:12:58.957704Z",
     "shell.execute_reply": "2022-03-20T13:12:58.958662Z",
     "shell.execute_reply.started": "2022-03-20T10:27:25.931745Z"
    },
    "papermill": {
     "duration": 17.159111,
     "end_time": "2022-03-20T13:12:58.958997",
     "exception": false,
     "start_time": "2022-03-20T13:12:41.799886",
     "status": "completed"
    },
    "tags": []
   },
   "outputs": [
    {
     "name": "stderr",
     "output_type": "stream",
     "text": [
      "[Stage 10:==============================================>           (4 + 1) / 5]\r"
     ]
    },
    {
     "name": "stdout",
     "output_type": "stream",
     "text": [
      "  ORIGIN_AIRPORT DESTINATION_AIRPORT     N\n",
      "0            BQN                 MCO   441\n",
      "1            PHL                 MCO  4869\n",
      "2            MCI                 IAH  1698\n",
      "3            SPI                 ORD   998\n",
      "4            SNA                 PHX  3846\n"
     ]
    },
    {
     "name": "stderr",
     "output_type": "stream",
     "text": [
      "                                                                                \r"
     ]
    }
   ],
   "source": [
    "# Don't change this query\n",
    "query = \"SELECT ORIGIN_AIRPORT, DESTINATION_AIRPORT, COUNT(*) as N FROM flights GROUP BY ORIGIN_AIRPORT, DESTINATION_AIRPORT\"\n",
    "\n",
    "# Run the query\n",
    "flight_counts = spark.sql(query)\n",
    "\n",
    "# Convert the results to a pandas DataFrame\n",
    "pd_counts = flight_counts.toPandas()\n",
    "\n",
    "# Print the head of pd_counts\n",
    "print(pd_counts.head())"
   ]
  },
  {
   "cell_type": "code",
   "execution_count": 14,
   "id": "1538f949",
   "metadata": {
    "execution": {
     "iopub.execute_input": "2022-03-20T13:12:59.412267Z",
     "iopub.status.busy": "2022-03-20T13:12:59.410918Z",
     "iopub.status.idle": "2022-03-20T13:12:59.719590Z",
     "shell.execute_reply": "2022-03-20T13:12:59.720519Z",
     "shell.execute_reply.started": "2022-03-20T10:27:43.046038Z"
    },
    "papermill": {
     "duration": 0.535076,
     "end_time": "2022-03-20T13:12:59.720792",
     "exception": false,
     "start_time": "2022-03-20T13:12:59.185716",
     "status": "completed"
    },
    "tags": []
   },
   "outputs": [
    {
     "name": "stdout",
     "output_type": "stream",
     "text": [
      "+------------------+\n",
      "|      duration_hrs|\n",
      "+------------------+\n",
      "| 2.816666666666667|\n",
      "| 4.383333333333334|\n",
      "| 4.433333333333334|\n",
      "|               4.3|\n",
      "| 3.316666666666667|\n",
      "| 3.433333333333333|\n",
      "| 2.566666666666667|\n",
      "|               3.8|\n",
      "|2.8833333333333333|\n",
      "|               3.1|\n",
      "+------------------+\n",
      "only showing top 10 rows\n",
      "\n"
     ]
    }
   ],
   "source": [
    "# Create the DataFrame flights\n",
    "flights = spark.table(\"flights\")\n",
    "\n",
    "# Add duration_hrs\n",
    "flights = flights.withColumn('duration_hrs', flights.AIR_TIME/60.)\n",
    "\n",
    "# Show the head\n",
    "flights.select('duration_hrs').show(10)"
   ]
  },
  {
   "cell_type": "code",
   "execution_count": 15,
   "id": "ccb8e1f3",
   "metadata": {
    "execution": {
     "iopub.execute_input": "2022-03-20T13:13:00.242401Z",
     "iopub.status.busy": "2022-03-20T13:13:00.241280Z",
     "iopub.status.idle": "2022-03-20T13:13:00.281890Z",
     "shell.execute_reply": "2022-03-20T13:13:00.281181Z",
     "shell.execute_reply.started": "2022-03-20T10:27:43.421634Z"
    },
    "papermill": {
     "duration": 0.271579,
     "end_time": "2022-03-20T13:13:00.282080",
     "exception": false,
     "start_time": "2022-03-20T13:13:00.010501",
     "status": "completed"
    },
    "tags": []
   },
   "outputs": [],
   "source": [
    "# Filter flights by passing a string\n",
    "long_flights1 = flights.filter(\"DISTANCE > 1000\")\n",
    "\n",
    "# Filter flights by passing a column of boolean values\n",
    "long_flights2 = flights.filter(flights.DISTANCE > 1000)\n"
   ]
  },
  {
   "cell_type": "code",
   "execution_count": 16,
   "id": "7118c88f",
   "metadata": {
    "execution": {
     "iopub.execute_input": "2022-03-20T13:13:00.744023Z",
     "iopub.status.busy": "2022-03-20T13:13:00.742596Z",
     "iopub.status.idle": "2022-03-20T13:13:00.929386Z",
     "shell.execute_reply": "2022-03-20T13:13:00.930248Z",
     "shell.execute_reply.started": "2022-03-20T10:27:43.477199Z"
    },
    "papermill": {
     "duration": 0.421033,
     "end_time": "2022-03-20T13:13:00.930520",
     "exception": false,
     "start_time": "2022-03-20T13:13:00.509487",
     "status": "completed"
    },
    "tags": []
   },
   "outputs": [
    {
     "name": "stdout",
     "output_type": "stream",
     "text": [
      "+--------------+-------------------+-------+\n",
      "|ORIGIN_AIRPORT|DESTINATION_AIRPORT|AIRLINE|\n",
      "+--------------+-------------------+-------+\n",
      "|           ANC|                SEA|     AS|\n",
      "|           LAX|                PBI|     AA|\n",
      "|           SFO|                CLT|     US|\n",
      "|           LAX|                MIA|     AA|\n",
      "|           SEA|                ANC|     AS|\n",
      "|           SFO|                MSP|     DL|\n",
      "|           LAS|                MSP|     NK|\n",
      "|           LAX|                CLT|     US|\n",
      "|           SFO|                DFW|     AA|\n",
      "|           LAS|                ATL|     DL|\n",
      "|           DEN|                ATL|     DL|\n",
      "|           LAS|                MIA|     AA|\n",
      "|           LAX|                MSP|     DL|\n",
      "|           SLC|                ATL|     DL|\n",
      "|           SEA|                MSP|     DL|\n",
      "|           ANC|                SEA|     AS|\n",
      "|           ANC|                SEA|     DL|\n",
      "|           SFO|                IAH|     UA|\n",
      "|           ANC|                PDX|     AS|\n",
      "|           PDX|                MSP|     DL|\n",
      "+--------------+-------------------+-------+\n",
      "only showing top 20 rows\n",
      "\n"
     ]
    }
   ],
   "source": [
    "# Select the first set of columns\n",
    "selected1 = flights.select('TAIL_NUMBER', 'ORIGIN_AIRPORT', 'DESTINATION_AIRPORT',)\n",
    "\n",
    "# Select the second set of columns\n",
    "temp = flights.select(flights.ORIGIN_AIRPORT, flights.DESTINATION_AIRPORT, flights.AIRLINE)\n",
    "\n",
    "temp.show()"
   ]
  },
  {
   "cell_type": "code",
   "execution_count": 17,
   "id": "e348023f",
   "metadata": {
    "execution": {
     "iopub.execute_input": "2022-03-20T13:13:01.468636Z",
     "iopub.status.busy": "2022-03-20T13:13:01.467421Z",
     "iopub.status.idle": "2022-03-20T13:13:01.488447Z",
     "shell.execute_reply": "2022-03-20T13:13:01.489297Z",
     "shell.execute_reply.started": "2022-03-20T10:27:43.695510Z"
    },
    "papermill": {
     "duration": 0.249889,
     "end_time": "2022-03-20T13:13:01.489592",
     "exception": false,
     "start_time": "2022-03-20T13:13:01.239703",
     "status": "completed"
    },
    "tags": []
   },
   "outputs": [],
   "source": [
    "# Define first filter\n",
    "filterA = flights.ORIGIN_AIRPORT == \"SEA\"\n",
    "\n",
    "# Define second filter\n",
    "filterB = flights.DESTINATION_AIRPORT == \"PDX\"\n",
    "\n",
    "# Filter the data, first by filterA then by filterB\n",
    "selected2 = temp.filter(filterA).filter(filterB)"
   ]
  },
  {
   "cell_type": "code",
   "execution_count": 18,
   "id": "58cbbcc1",
   "metadata": {
    "execution": {
     "iopub.execute_input": "2022-03-20T13:13:01.952029Z",
     "iopub.status.busy": "2022-03-20T13:13:01.951258Z",
     "iopub.status.idle": "2022-03-20T13:13:02.016060Z",
     "shell.execute_reply": "2022-03-20T13:13:02.014993Z",
     "shell.execute_reply.started": "2022-03-20T10:27:43.727721Z"
    },
    "papermill": {
     "duration": 0.294852,
     "end_time": "2022-03-20T13:13:02.016300",
     "exception": false,
     "start_time": "2022-03-20T13:13:01.721448",
     "status": "completed"
    },
    "tags": []
   },
   "outputs": [],
   "source": [
    "# Define avg_speed\n",
    "avg_speed = (flights.DISTANCE/(flights.AIR_TIME/60)).alias(\"avg_speed\")\n",
    "\n",
    "# Select the correct columns\n",
    "speed1 = flights.select('TAIL_NUMBER', 'ORIGIN_AIRPORT', 'DESTINATION_AIRPORT', avg_speed)\n",
    "\n",
    "# Create the same table using a SQL expression\n",
    "speed2 = flights.selectExpr('TAIL_NUMBER', 'ORIGIN_AIRPORT', 'DESTINATION_AIRPORT', \"DISTANCE/(AIR_TIME/60) as avg_speed\")"
   ]
  },
  {
   "cell_type": "code",
   "execution_count": 19,
   "id": "cd460663",
   "metadata": {
    "execution": {
     "iopub.execute_input": "2022-03-20T13:13:02.576539Z",
     "iopub.status.busy": "2022-03-20T13:13:02.575316Z",
     "iopub.status.idle": "2022-03-20T13:13:02.704474Z",
     "shell.execute_reply": "2022-03-20T13:13:02.703215Z",
     "shell.execute_reply.started": "2022-03-20T10:27:43.802430Z"
    },
    "papermill": {
     "duration": 0.393044,
     "end_time": "2022-03-20T13:13:02.704750",
     "exception": false,
     "start_time": "2022-03-20T13:13:02.311706",
     "status": "completed"
    },
    "tags": []
   },
   "outputs": [],
   "source": [
    "#Cast the columns to integers\n",
    "flights = flights.withColumn(\"MONTH\", flights.MONTH.cast(\"integer\"))\n",
    "flights = flights.withColumn(\"DAY_OF_WEEK\", flights.DAY_OF_WEEK.cast(\"integer\"))\n",
    "flights = flights.withColumn(\"AIR_TIME\", flights.AIR_TIME.cast(\"integer\"))\n",
    "flights = flights.withColumn(\"DISTANCE\", flights.DISTANCE.cast(\"double\"))\n",
    "flights = flights.withColumn(\"ARRIVAL_DELAY\", flights.ARRIVAL_DELAY.cast(\"integer\"))"
   ]
  },
  {
   "cell_type": "code",
   "execution_count": 20,
   "id": "5af550cb",
   "metadata": {
    "execution": {
     "iopub.execute_input": "2022-03-20T13:13:03.195009Z",
     "iopub.status.busy": "2022-03-20T13:13:03.193116Z",
     "iopub.status.idle": "2022-03-20T13:13:28.578785Z",
     "shell.execute_reply": "2022-03-20T13:13:28.577644Z",
     "shell.execute_reply.started": "2022-03-20T10:27:43.941642Z"
    },
    "papermill": {
     "duration": 25.62151,
     "end_time": "2022-03-20T13:13:28.579051",
     "exception": false,
     "start_time": "2022-03-20T13:13:02.957541",
     "status": "completed"
    },
    "tags": []
   },
   "outputs": [
    {
     "name": "stderr",
     "output_type": "stream",
     "text": [
      "                                                                                \r"
     ]
    },
    {
     "name": "stdout",
     "output_type": "stream",
     "text": [
      "+-------------+\n",
      "|min(DISTANCE)|\n",
      "+-------------+\n",
      "|        129.0|\n",
      "+-------------+\n",
      "\n"
     ]
    },
    {
     "name": "stderr",
     "output_type": "stream",
     "text": [
      "[Stage 19:==============================================>           (4 + 1) / 5]\r"
     ]
    },
    {
     "name": "stdout",
     "output_type": "stream",
     "text": [
      "+-------------+\n",
      "|max(AIR_TIME)|\n",
      "+-------------+\n",
      "|          412|\n",
      "+-------------+\n",
      "\n"
     ]
    },
    {
     "name": "stderr",
     "output_type": "stream",
     "text": [
      "                                                                                \r"
     ]
    }
   ],
   "source": [
    "# Find the shortest flight from PDX in terms of distance\n",
    "flights.filter(flights.ORIGIN_AIRPORT == 'PDX').groupBy().min('DISTANCE').show()\n",
    "\n",
    "# Find the longest flight from SEA in terms of air time\n",
    "flights.filter(flights.ORIGIN_AIRPORT == 'SEA').groupBy().max('AIR_TIME').show()"
   ]
  },
  {
   "cell_type": "code",
   "execution_count": 21,
   "id": "e95deb1a",
   "metadata": {
    "execution": {
     "iopub.execute_input": "2022-03-20T13:13:29.047664Z",
     "iopub.status.busy": "2022-03-20T13:13:29.046763Z",
     "iopub.status.idle": "2022-03-20T13:14:01.180406Z",
     "shell.execute_reply": "2022-03-20T13:14:01.181290Z",
     "shell.execute_reply.started": "2022-03-20T10:28:08.494084Z"
    },
    "papermill": {
     "duration": 32.362136,
     "end_time": "2022-03-20T13:14:01.181583",
     "exception": false,
     "start_time": "2022-03-20T13:13:28.819447",
     "status": "completed"
    },
    "tags": []
   },
   "outputs": [
    {
     "name": "stderr",
     "output_type": "stream",
     "text": [
      "                                                                                \r"
     ]
    },
    {
     "name": "stdout",
     "output_type": "stream",
     "text": [
      "+-----------+-----+\n",
      "|TAIL_NUMBER|count|\n",
      "+-----------+-----+\n",
      "|     N38451|  946|\n",
      "|     N567AA| 1458|\n",
      "|     N623NK| 1669|\n",
      "|     N442AS| 1210|\n",
      "|     N902DE| 1704|\n",
      "|     N4YUAA| 1290|\n",
      "|     N466SW| 1942|\n",
      "|     N516UA|  439|\n",
      "|     N866AS| 2397|\n",
      "|     N499AA| 1292|\n",
      "+-----------+-----+\n",
      "only showing top 10 rows\n",
      "\n"
     ]
    },
    {
     "name": "stderr",
     "output_type": "stream",
     "text": [
      "[Stage 25:==============================================>           (4 + 1) / 5]\r"
     ]
    },
    {
     "name": "stdout",
     "output_type": "stream",
     "text": [
      "+--------------+------------------+\n",
      "|ORIGIN_AIRPORT|     avg(AIR_TIME)|\n",
      "+--------------+------------------+\n",
      "|           BGM|  65.7915057915058|\n",
      "|           PSE|182.11517615176152|\n",
      "|           INL|31.967625899280577|\n",
      "|           MSY|102.93938681708973|\n",
      "|           PPG|  309.188679245283|\n",
      "|           GEG| 84.57923728813559|\n",
      "|           SNA|106.89280265882097|\n",
      "|           BUR| 68.00404814594916|\n",
      "|           GRB|48.289618644067794|\n",
      "|           GTF| 83.24794238683127|\n",
      "+--------------+------------------+\n",
      "only showing top 10 rows\n",
      "\n"
     ]
    },
    {
     "name": "stderr",
     "output_type": "stream",
     "text": [
      "                                                                                \r"
     ]
    }
   ],
   "source": [
    "# Group by tailnum\n",
    "by_plane = flights.groupBy(\"TAIL_NUMBER\")\n",
    "\n",
    "# Number of flights each plane made\n",
    "by_plane.count().show(10)\n",
    "\n",
    "# Group by origin\n",
    "by_origin = flights.groupBy(\"ORIGIN_AIRPORT\")\n",
    "\n",
    "# Average duration of flights from PDX and SEA\n",
    "by_origin.avg(\"AIR_TIME\").show(10)"
   ]
  },
  {
   "cell_type": "code",
   "execution_count": 22,
   "id": "58212836",
   "metadata": {
    "execution": {
     "iopub.execute_input": "2022-03-20T13:14:01.655891Z",
     "iopub.status.busy": "2022-03-20T13:14:01.654634Z",
     "iopub.status.idle": "2022-03-20T13:14:34.620802Z",
     "shell.execute_reply": "2022-03-20T13:14:34.619959Z",
     "shell.execute_reply.started": "2022-03-20T10:28:40.623964Z"
    },
    "papermill": {
     "duration": 33.202387,
     "end_time": "2022-03-20T13:14:34.621034",
     "exception": false,
     "start_time": "2022-03-20T13:14:01.418647",
     "status": "completed"
    },
    "tags": []
   },
   "outputs": [
    {
     "name": "stderr",
     "output_type": "stream",
     "text": [
      "                                                                                \r"
     ]
    },
    {
     "name": "stdout",
     "output_type": "stream",
     "text": [
      "+-----+-------------------+--------------------+\n",
      "|MONTH|DESTINATION_AIRPORT|avg(DEPARTURE_DELAY)|\n",
      "+-----+-------------------+--------------------+\n",
      "|    1|                ACY|    8.33433734939759|\n",
      "|    1|                EYW|   6.551440329218107|\n",
      "|    1|                OME|                0.05|\n",
      "|    1|                RDM|   9.701863354037267|\n",
      "|    1|                TWF|  -4.711864406779661|\n",
      "|    2|                AVP|  11.623529411764705|\n",
      "|    3|                LNK|    8.91304347826087|\n",
      "|    3|                BJI| -1.0806451612903225|\n",
      "|    1|                AEX|    4.98932384341637|\n",
      "|    1|                GNV|   6.982062780269058|\n",
      "+-----+-------------------+--------------------+\n",
      "only showing top 10 rows\n",
      "\n"
     ]
    },
    {
     "name": "stderr",
     "output_type": "stream",
     "text": [
      "[Stage 31:==============================================>           (4 + 1) / 5]\r"
     ]
    },
    {
     "name": "stdout",
     "output_type": "stream",
     "text": [
      "+-----+-------------------+----------------------------+\n",
      "|MONTH|DESTINATION_AIRPORT|stddev_samp(DEPARTURE_DELAY)|\n",
      "+-----+-------------------+----------------------------+\n",
      "|    1|                ACY|           32.81265545745788|\n",
      "|    1|                EYW|           63.65052137951282|\n",
      "|    1|                OME|          19.546923118225806|\n",
      "|    1|                RDM|          34.260918828983726|\n",
      "|    1|                TWF|           7.985009333135624|\n",
      "|    2|                AVP|           25.87606748227672|\n",
      "|    3|                LNK|           40.74236129383307|\n",
      "|    3|                BJI|          13.324817701944676|\n",
      "|    1|                AEX|          21.823559351202647|\n",
      "|    1|                GNV|           27.69378310655295|\n",
      "+-----+-------------------+----------------------------+\n",
      "only showing top 10 rows\n",
      "\n"
     ]
    },
    {
     "name": "stderr",
     "output_type": "stream",
     "text": [
      "                                                                                \r"
     ]
    }
   ],
   "source": [
    "#Import pyspark.sql.functions as F\n",
    "import pyspark.sql.functions as F\n",
    "\n",
    "# cast\n",
    "flights = flights.withColumn(\"DEPARTURE_DELAY\", flights.DEPARTURE_DELAY.cast(\"integer\"))\n",
    "\n",
    "# Group by month and dest\n",
    "by_month_dest = flights.groupBy('MONTH', 'DESTINATION_AIRPORT')\n",
    "\n",
    "# Average departure delay by month and destination\n",
    "by_month_dest.avg('DEPARTURE_DELAY').show(10)\n",
    "\n",
    "# Standard deviation of departure delay\n",
    "by_month_dest.agg(F.stddev('DEPARTURE_DELAY')).show(10)"
   ]
  },
  {
   "cell_type": "code",
   "execution_count": 23,
   "id": "06cf40e6",
   "metadata": {
    "execution": {
     "iopub.execute_input": "2022-03-20T13:14:35.091951Z",
     "iopub.status.busy": "2022-03-20T13:14:35.090959Z",
     "iopub.status.idle": "2022-03-20T13:14:35.182175Z",
     "shell.execute_reply": "2022-03-20T13:14:35.181291Z",
     "shell.execute_reply.started": "2022-03-20T10:29:12.694291Z"
    },
    "papermill": {
     "duration": 0.32902,
     "end_time": "2022-03-20T13:14:35.182417",
     "exception": false,
     "start_time": "2022-03-20T13:14:34.853397",
     "status": "completed"
    },
    "tags": []
   },
   "outputs": [
    {
     "name": "stdout",
     "output_type": "stream",
     "text": [
      "['IATA_CODE', 'AIRPORT', 'CITY', 'STATE', 'COUNTRY', 'LATITUDE', 'LONGITUDE']\n",
      "+---------+--------------------+-------------+-----+-------+--------+----------+\n",
      "|IATA_CODE|             AIRPORT|         CITY|STATE|COUNTRY|LATITUDE| LONGITUDE|\n",
      "+---------+--------------------+-------------+-----+-------+--------+----------+\n",
      "|      ABE|Lehigh Valley Int...|    Allentown|   PA|    USA|40.65236| -75.44040|\n",
      "|      ABI|Abilene Regional ...|      Abilene|   TX|    USA|32.41132| -99.68190|\n",
      "|      ABQ|Albuquerque Inter...|  Albuquerque|   NM|    USA|35.04022|-106.60919|\n",
      "|      ABR|Aberdeen Regional...|     Aberdeen|   SD|    USA|45.44906| -98.42183|\n",
      "|      ABY|Southwest Georgia...|       Albany|   GA|    USA|31.53552| -84.19447|\n",
      "|      ACK|Nantucket Memoria...|    Nantucket|   MA|    USA|41.25305| -70.06018|\n",
      "|      ACT|Waco Regional Air...|         Waco|   TX|    USA|31.61129| -97.23052|\n",
      "|      ACV|      Arcata Airport|Arcata/Eureka|   CA|    USA|40.97812|-124.10862|\n",
      "|      ACY|Atlantic City Int...|Atlantic City|   NJ|    USA|39.45758| -74.57717|\n",
      "|      ADK|        Adak Airport|         Adak|   AK|    USA|51.87796|-176.64603|\n",
      "+---------+--------------------+-------------+-----+-------+--------+----------+\n",
      "only showing top 10 rows\n",
      "\n",
      "None\n"
     ]
    }
   ],
   "source": [
    "print(airports.columns)\n",
    "\n",
    "# Examine the data\n",
    "print(airports.show(10))"
   ]
  },
  {
   "cell_type": "code",
   "execution_count": 24,
   "id": "fab3e9a9",
   "metadata": {
    "execution": {
     "iopub.execute_input": "2022-03-20T13:14:35.684723Z",
     "iopub.status.busy": "2022-03-20T13:14:35.683413Z",
     "iopub.status.idle": "2022-03-20T13:14:51.054083Z",
     "shell.execute_reply": "2022-03-20T13:14:51.053399Z",
     "shell.execute_reply.started": "2022-03-20T10:29:12.798623Z"
    },
    "papermill": {
     "duration": 15.61237,
     "end_time": "2022-03-20T13:14:51.054234",
     "exception": false,
     "start_time": "2022-03-20T13:14:35.441864",
     "status": "completed"
    },
    "tags": []
   },
   "outputs": [
    {
     "name": "stdout",
     "output_type": "stream",
     "text": [
      "['DESTINATION_AIRPORT', 'YEAR', 'MONTH', 'DAY', 'DAY_OF_WEEK', 'AIRLINE', 'FLIGHT_NUMBER', 'TAIL_NUMBER', 'ORIGIN_AIRPORT', 'SCHEDULED_DEPARTURE', 'DEPARTURE_TIME', 'DEPARTURE_DELAY', 'TAXI_OUT', 'WHEELS_OFF', 'SCHEDULED_TIME', 'ELAPSED_TIME', 'AIR_TIME', 'DISTANCE', 'WHEELS_ON', 'TAXI_IN', 'SCHEDULED_ARRIVAL', 'ARRIVAL_TIME', 'ARRIVAL_DELAY', 'DIVERTED', 'CANCELLED', 'CANCELLATION_REASON', 'AIR_SYSTEM_DELAY', 'SECURITY_DELAY', 'AIRLINE_DELAY', 'LATE_AIRCRAFT_DELAY', 'WEATHER_DELAY', 'duration_hrs', 'AIRPORT', 'CITY', 'STATE', 'COUNTRY', 'LATITUDE', 'LONGITUDE']\n"
     ]
    },
    {
     "name": "stderr",
     "output_type": "stream",
     "text": [
      "[Stage 36:==============================================>           (4 + 1) / 5]\r"
     ]
    },
    {
     "name": "stdout",
     "output_type": "stream",
     "text": [
      "5819079\n"
     ]
    },
    {
     "name": "stderr",
     "output_type": "stream",
     "text": [
      "                                                                                \r"
     ]
    }
   ],
   "source": [
    "# Rename the faa column\n",
    "airports = airports.withColumnRenamed(\"IATA_CODE\", \"DESTINATION_AIRPORT\")\n",
    "\n",
    "# Join the DataFrames\n",
    "flights_with_airports = flights.join(airports , on = 'DESTINATION_AIRPORT', how = 'leftouter')\n",
    "\n",
    "# Examine the new DataFrame\n",
    "print(flights_with_airports.columns)\n",
    "print(flights_with_airports.count())"
   ]
  },
  {
   "cell_type": "code",
   "execution_count": 25,
   "id": "0ed2cbc8",
   "metadata": {
    "execution": {
     "iopub.execute_input": "2022-03-20T13:14:51.531828Z",
     "iopub.status.busy": "2022-03-20T13:14:51.531157Z",
     "iopub.status.idle": "2022-03-20T13:14:51.861455Z",
     "shell.execute_reply": "2022-03-20T13:14:51.863071Z",
     "shell.execute_reply.started": "2022-03-20T10:29:27.747915Z"
    },
    "papermill": {
     "duration": 0.57129,
     "end_time": "2022-03-20T13:14:51.863522",
     "exception": false,
     "start_time": "2022-03-20T13:14:51.292232",
     "status": "completed"
    },
    "tags": []
   },
   "outputs": [
    {
     "name": "stdout",
     "output_type": "stream",
     "text": [
      "+-------------+--------------------+-----------------+-----+-------+--------+----------+\n",
      "|FLIGHT_NUMBER|             AIRPORT|             CITY|STATE|COUNTRY|LATITUDE| LONGITUDE|\n",
      "+-------------+--------------------+-----------------+-----+-------+--------+----------+\n",
      "|           98|Seattle-Tacoma In...|          Seattle|   WA|    USA|47.44898|-122.30931|\n",
      "|         2336|Palm Beach Intern...|  West Palm Beach|   FL|    USA|26.68316| -80.09559|\n",
      "|          840|Charlotte Douglas...|        Charlotte|   NC|    USA|35.21401| -80.94313|\n",
      "|          258|Miami Internation...|            Miami|   FL|    USA|25.79325| -80.29056|\n",
      "|          135|Ted Stevens Ancho...|        Anchorage|   AK|    USA|61.17432|-149.99619|\n",
      "|          806|Minneapolis-Saint...|      Minneapolis|   MN|    USA|44.88055| -93.21692|\n",
      "|          612|Minneapolis-Saint...|      Minneapolis|   MN|    USA|44.88055| -93.21692|\n",
      "|         2013|Charlotte Douglas...|        Charlotte|   NC|    USA|35.21401| -80.94313|\n",
      "|         1112|Dallas/Fort Worth...|Dallas-Fort Worth|   TX|    USA|32.89595| -97.03720|\n",
      "|         1173|Hartsfield-Jackso...|          Atlanta|   GA|    USA|33.64044| -84.42694|\n",
      "+-------------+--------------------+-----------------+-----+-------+--------+----------+\n",
      "only showing top 10 rows\n",
      "\n"
     ]
    }
   ],
   "source": [
    "flights_with_airports.select('FLIGHT_NUMBER', 'AIRPORT', 'CITY', 'STATE', 'COUNTRY', 'LATITUDE', 'LONGITUDE').show(10)"
   ]
  },
  {
   "cell_type": "code",
   "execution_count": 27,
   "id": "2cef3225",
   "metadata": {
    "execution": {
     "iopub.execute_input": "2022-03-20T13:14:52.439303Z",
     "iopub.status.busy": "2022-03-20T13:14:52.438540Z",
     "iopub.status.idle": "2022-03-20T13:14:52.898172Z",
     "shell.execute_reply": "2022-03-20T13:14:52.897430Z",
     "shell.execute_reply.started": "2022-03-20T10:29:28.126300Z"
    },
    "papermill": {
     "duration": 0.731837,
     "end_time": "2022-03-20T13:14:52.898395",
     "exception": false,
     "start_time": "2022-03-20T13:14:52.166558",
     "status": "completed"
    },
    "tags": []
   },
   "outputs": [
    {
     "name": "stdout",
     "output_type": "stream",
     "text": [
      "(14, 2)\n",
      "+---------+--------------------+\n",
      "|IATA_CODE|             AIRLINE|\n",
      "+---------+--------------------+\n",
      "|       UA|United Air Lines ...|\n",
      "|       AA|American Airlines...|\n",
      "|       US|     US Airways Inc.|\n",
      "|       F9|Frontier Airlines...|\n",
      "|       B6|     JetBlue Airways|\n",
      "|       OO|Skywest Airlines ...|\n",
      "|       AS|Alaska Airlines Inc.|\n",
      "|       NK|    Spirit Air Lines|\n",
      "|       WN|Southwest Airline...|\n",
      "|       DL|Delta Air Lines Inc.|\n",
      "|       EV|Atlantic Southeas...|\n",
      "|       HA|Hawaiian Airlines...|\n",
      "|       MQ|American Eagle Ai...|\n",
      "|       VX|      Virgin America|\n",
      "+---------+--------------------+\n",
      "\n"
     ]
    }
   ],
   "source": [
    "# Read in the airports data\n",
    "airlines = spark.read.csv(['/mnt/c/Users/lokes/Downloads/airlines.csv'], header = True)\n",
    "\n",
    "# Show the data shape\n",
    "print((airlines.count(), len(airlines.columns)))\n",
    "\n",
    "airlines.show()"
   ]
  },
  {
   "cell_type": "markdown",
   "id": "e0862326",
   "metadata": {
    "papermill": {
     "duration": 0.236232,
     "end_time": "2022-03-20T13:14:53.391037",
     "exception": false,
     "start_time": "2022-03-20T13:14:53.154805",
     "status": "completed"
    },
    "tags": []
   },
   "source": [
    "MACHINE LEARNING"
   ]
  },
  {
   "cell_type": "code",
   "execution_count": 28,
   "id": "fdec8137",
   "metadata": {
    "execution": {
     "iopub.execute_input": "2022-03-20T13:14:53.868573Z",
     "iopub.status.busy": "2022-03-20T13:14:53.867815Z",
     "iopub.status.idle": "2022-03-20T13:15:11.352202Z",
     "shell.execute_reply": "2022-03-20T13:15:11.352703Z",
     "shell.execute_reply.started": "2022-03-20T10:29:28.821018Z"
    },
    "papermill": {
     "duration": 17.725081,
     "end_time": "2022-03-20T13:15:11.352896",
     "exception": false,
     "start_time": "2022-03-20T13:14:53.627815",
     "status": "completed"
    },
    "tags": []
   },
   "outputs": [
    {
     "name": "stderr",
     "output_type": "stream",
     "text": [
      "                                                                                \r"
     ]
    },
    {
     "data": {
      "text/plain": [
       "5714008"
      ]
     },
     "execution_count": 28,
     "metadata": {},
     "output_type": "execute_result"
    }
   ],
   "source": [
    "# filtering columns\n",
    "model_data = flights.select('MONTH', 'DAY_OF_WEEK', 'AIRLINE', 'TAIL_NUMBER', 'DESTINATION_AIRPORT', 'AIR_TIME', 'DISTANCE', 'ARRIVAL_DELAY',)\n",
    "\n",
    "# Remove missing values\n",
    "model_data = model_data.filter(\"ARRIVAL_DELAY is not NULL and AIRLINE is not NULL and AIR_TIME is not NULL and TAIL_NUMBER is not NULL\")\n",
    "\n",
    "# rows left\n",
    "model_data.count()"
   ]
  },
  {
   "cell_type": "code",
   "execution_count": 29,
   "id": "9ac4c0cc",
   "metadata": {
    "execution": {
     "iopub.execute_input": "2022-03-20T13:15:11.837190Z",
     "iopub.status.busy": "2022-03-20T13:15:11.836130Z",
     "iopub.status.idle": "2022-03-20T13:15:11.890644Z",
     "shell.execute_reply": "2022-03-20T13:15:11.889990Z",
     "shell.execute_reply.started": "2022-03-20T10:29:46.018506Z"
    },
    "papermill": {
     "duration": 0.29744,
     "end_time": "2022-03-20T13:15:11.890797",
     "exception": false,
     "start_time": "2022-03-20T13:15:11.593357",
     "status": "completed"
    },
    "tags": []
   },
   "outputs": [],
   "source": [
    "# Create is_late (label)\n",
    "model_data = model_data.withColumn(\"is_late\", model_data.ARRIVAL_DELAY > 0)\n",
    "\n",
    "# cast\n",
    "model_data = model_data.withColumn(\"is_late\", model_data.is_late.cast(\"integer\"))\n",
    "\n",
    "# rename column\n",
    "model_data = model_data.withColumnRenamed(\"is_late\", 'label')"
   ]
  },
  {
   "cell_type": "code",
   "execution_count": 30,
   "id": "53ab953a",
   "metadata": {
    "execution": {
     "iopub.execute_input": "2022-03-20T13:15:12.377347Z",
     "iopub.status.busy": "2022-03-20T13:15:12.376300Z",
     "iopub.status.idle": "2022-03-20T13:15:12.558052Z",
     "shell.execute_reply": "2022-03-20T13:15:12.556420Z",
     "shell.execute_reply.started": "2022-03-20T10:29:46.090413Z"
    },
    "papermill": {
     "duration": 0.42684,
     "end_time": "2022-03-20T13:15:12.558295",
     "exception": false,
     "start_time": "2022-03-20T13:15:12.131455",
     "status": "completed"
    },
    "tags": []
   },
   "outputs": [
    {
     "name": "stdout",
     "output_type": "stream",
     "text": [
      "+-----+-----------+-------+-----------+-------------------+--------+--------+-------------+-----+\n",
      "|MONTH|DAY_OF_WEEK|AIRLINE|TAIL_NUMBER|DESTINATION_AIRPORT|AIR_TIME|DISTANCE|ARRIVAL_DELAY|label|\n",
      "+-----+-----------+-------+-----------+-------------------+--------+--------+-------------+-----+\n",
      "|    1|          4|     AS|     N407AS|                SEA|     169|  1448.0|          -22|    0|\n",
      "|    1|          4|     AA|     N3KUAA|                PBI|     263|  2330.0|           -9|    0|\n",
      "|    1|          4|     US|     N171US|                CLT|     266|  2296.0|            5|    1|\n",
      "|    1|          4|     AA|     N3HYAA|                MIA|     258|  2342.0|           -9|    0|\n",
      "|    1|          4|     AS|     N527AS|                ANC|     199|  1448.0|          -21|    0|\n",
      "|    1|          4|     DL|     N3730B|                MSP|     206|  1589.0|            8|    1|\n",
      "|    1|          4|     NK|     N635NK|                MSP|     154|  1299.0|          -17|    0|\n",
      "|    1|          4|     US|     N584UW|                CLT|     228|  2125.0|          -10|    0|\n",
      "|    1|          4|     AA|     N3LAAA|                DFW|     173|  1464.0|          -13|    0|\n",
      "|    1|          4|     DL|     N826DN|                ATL|     186|  1747.0|          -15|    0|\n",
      "|    1|          4|     DL|     N958DN|                ATL|     133|  1199.0|          -30|    0|\n",
      "|    1|          4|     AA|     N853AA|                MIA|     238|  2174.0|          -10|    0|\n",
      "|    1|          4|     DL|     N547US|                MSP|     188|  1535.0|           -4|    0|\n",
      "|    1|          4|     DL|     N3751B|                ATL|     176|  1590.0|          -22|    0|\n",
      "|    1|          4|     DL|     N651DL|                MSP|     166|  1399.0|            8|    1|\n",
      "+-----+-----------+-------+-----------+-------------------+--------+--------+-------------+-----+\n",
      "only showing top 15 rows\n",
      "\n"
     ]
    }
   ],
   "source": [
    "model_data.show(15)"
   ]
  },
  {
   "cell_type": "code",
   "execution_count": 32,
   "id": "6aa6c2ab",
   "metadata": {
    "execution": {
     "iopub.execute_input": "2022-03-20T13:15:13.210282Z",
     "iopub.status.busy": "2022-03-20T13:15:13.209214Z",
     "iopub.status.idle": "2022-03-20T13:15:31.654521Z",
     "shell.execute_reply": "2022-03-20T13:15:31.653520Z",
     "shell.execute_reply.started": "2022-03-20T10:29:46.312307Z"
    },
    "papermill": {
     "duration": 18.709061,
     "end_time": "2022-03-20T13:15:31.654770",
     "exception": false,
     "start_time": "2022-03-20T13:15:12.945709",
     "status": "completed"
    },
    "tags": []
   },
   "outputs": [
    {
     "name": "stdout",
     "output_type": "stream",
     "text": [
      "Labels distrubution:\n"
     ]
    },
    {
     "name": "stderr",
     "output_type": "stream",
     "text": [
      "[Stage 53:==============================================>           (4 + 1) / 5]\r"
     ]
    },
    {
     "name": "stdout",
     "output_type": "stream",
     "text": [
      "+-----+-------+\n",
      "|label|  count|\n",
      "+-----+-------+\n",
      "|    1|2086896|\n",
      "|    0|3627112|\n",
      "+-----+-------+\n",
      "\n"
     ]
    },
    {
     "name": "stderr",
     "output_type": "stream",
     "text": [
      "                                                                                \r"
     ]
    }
   ],
   "source": [
    "print('Labels distrubution:')\n",
    "model_data.groupBy('label').count().show()"
   ]
  },
  {
   "cell_type": "code",
   "execution_count": 33,
   "id": "d6ccabeb",
   "metadata": {
    "execution": {
     "iopub.execute_input": "2022-03-20T13:15:32.646036Z",
     "iopub.status.busy": "2022-03-20T13:15:32.645331Z",
     "iopub.status.idle": "2022-03-20T13:15:49.924114Z",
     "shell.execute_reply": "2022-03-20T13:15:49.923137Z",
     "shell.execute_reply.started": "2022-03-20T10:30:03.775694Z"
    },
    "papermill": {
     "duration": 17.52559,
     "end_time": "2022-03-20T13:15:49.924345",
     "exception": false,
     "start_time": "2022-03-20T13:15:32.398755",
     "status": "completed"
    },
    "tags": []
   },
   "outputs": [
    {
     "name": "stderr",
     "output_type": "stream",
     "text": [
      "                                                                                \r"
     ]
    },
    {
     "data": {
      "text/plain": [
       "5714008"
      ]
     },
     "execution_count": 33,
     "metadata": {},
     "output_type": "execute_result"
    }
   ],
   "source": [
    "# filtering columns\n",
    "model_data = flights.select('MONTH', 'DAY_OF_WEEK', 'AIRLINE', 'TAIL_NUMBER', 'DESTINATION_AIRPORT', 'AIR_TIME', 'DISTANCE', 'ARRIVAL_DELAY',)\n",
    "\n",
    "# Remove missing values\n",
    "model_data = model_data.filter(\"ARRIVAL_DELAY is not NULL and AIRLINE is not NULL and AIR_TIME is not NULL and TAIL_NUMBER is not NULL\")\n",
    "\n",
    "# rows left\n",
    "model_data.count()"
   ]
  },
  {
   "cell_type": "code",
   "execution_count": 34,
   "id": "2832431c",
   "metadata": {
    "execution": {
     "iopub.execute_input": "2022-03-20T13:15:50.459653Z",
     "iopub.status.busy": "2022-03-20T13:15:50.458969Z",
     "iopub.status.idle": "2022-03-20T13:15:50.528567Z",
     "shell.execute_reply": "2022-03-20T13:15:50.527529Z",
     "shell.execute_reply.started": "2022-03-20T10:30:20.516226Z"
    },
    "papermill": {
     "duration": 0.337359,
     "end_time": "2022-03-20T13:15:50.528783",
     "exception": false,
     "start_time": "2022-03-20T13:15:50.191424",
     "status": "completed"
    },
    "tags": []
   },
   "outputs": [],
   "source": [
    "# Create is_late (label)\n",
    "model_data = model_data.withColumn(\"is_late\", model_data.ARRIVAL_DELAY > 0)\n",
    "\n",
    "# cast\n",
    "model_data = model_data.withColumn(\"is_late\", model_data.is_late.cast(\"integer\"))\n",
    "\n",
    "# rename column\n",
    "model_data = model_data.withColumnRenamed(\"is_late\", 'label')"
   ]
  },
  {
   "cell_type": "code",
   "execution_count": 35,
   "id": "aa74912c",
   "metadata": {
    "execution": {
     "iopub.execute_input": "2022-03-20T13:15:51.054196Z",
     "iopub.status.busy": "2022-03-20T13:15:51.053003Z",
     "iopub.status.idle": "2022-03-20T13:15:51.156800Z",
     "shell.execute_reply": "2022-03-20T13:15:51.155880Z",
     "shell.execute_reply.started": "2022-03-20T10:30:20.599046Z"
    },
    "papermill": {
     "duration": 0.362971,
     "end_time": "2022-03-20T13:15:51.157014",
     "exception": false,
     "start_time": "2022-03-20T13:15:50.794043",
     "status": "completed"
    },
    "tags": []
   },
   "outputs": [
    {
     "name": "stdout",
     "output_type": "stream",
     "text": [
      "+-----+-----------+-------+-----------+-------------------+--------+--------+-------------+-----+\n",
      "|MONTH|DAY_OF_WEEK|AIRLINE|TAIL_NUMBER|DESTINATION_AIRPORT|AIR_TIME|DISTANCE|ARRIVAL_DELAY|label|\n",
      "+-----+-----------+-------+-----------+-------------------+--------+--------+-------------+-----+\n",
      "|    1|          4|     AS|     N407AS|                SEA|     169|  1448.0|          -22|    0|\n",
      "|    1|          4|     AA|     N3KUAA|                PBI|     263|  2330.0|           -9|    0|\n",
      "|    1|          4|     US|     N171US|                CLT|     266|  2296.0|            5|    1|\n",
      "|    1|          4|     AA|     N3HYAA|                MIA|     258|  2342.0|           -9|    0|\n",
      "|    1|          4|     AS|     N527AS|                ANC|     199|  1448.0|          -21|    0|\n",
      "|    1|          4|     DL|     N3730B|                MSP|     206|  1589.0|            8|    1|\n",
      "|    1|          4|     NK|     N635NK|                MSP|     154|  1299.0|          -17|    0|\n",
      "|    1|          4|     US|     N584UW|                CLT|     228|  2125.0|          -10|    0|\n",
      "|    1|          4|     AA|     N3LAAA|                DFW|     173|  1464.0|          -13|    0|\n",
      "|    1|          4|     DL|     N826DN|                ATL|     186|  1747.0|          -15|    0|\n",
      "|    1|          4|     DL|     N958DN|                ATL|     133|  1199.0|          -30|    0|\n",
      "|    1|          4|     AA|     N853AA|                MIA|     238|  2174.0|          -10|    0|\n",
      "|    1|          4|     DL|     N547US|                MSP|     188|  1535.0|           -4|    0|\n",
      "|    1|          4|     DL|     N3751B|                ATL|     176|  1590.0|          -22|    0|\n",
      "|    1|          4|     DL|     N651DL|                MSP|     166|  1399.0|            8|    1|\n",
      "+-----+-----------+-------+-----------+-------------------+--------+--------+-------------+-----+\n",
      "only showing top 15 rows\n",
      "\n"
     ]
    }
   ],
   "source": [
    "model_data.show(15)"
   ]
  },
  {
   "cell_type": "code",
   "execution_count": 36,
   "id": "87ce7e69",
   "metadata": {
    "execution": {
     "iopub.execute_input": "2022-03-20T13:15:51.676954Z",
     "iopub.status.busy": "2022-03-20T13:15:51.673704Z",
     "iopub.status.idle": "2022-03-20T13:15:51.861735Z",
     "shell.execute_reply": "2022-03-20T13:15:51.861089Z",
     "shell.execute_reply.started": "2022-03-20T10:30:20.732069Z"
    },
    "papermill": {
     "duration": 0.438888,
     "end_time": "2022-03-20T13:15:51.861905",
     "exception": false,
     "start_time": "2022-03-20T13:15:51.423017",
     "status": "completed"
    },
    "tags": []
   },
   "outputs": [],
   "source": [
    "from pyspark.ml.feature import OneHotEncoder, StringIndexer\n",
    "from pyspark.ml.feature import HashingTF, IDF, Tokenizer\n",
    "\n",
    "# Create a StringIndexer\n",
    "airline_indexer = StringIndexer(inputCol=\"AIRLINE\", outputCol=\"airline_index\")\n",
    "\n",
    "# Create a OneHotEncoder\n",
    "airline_encoder = OneHotEncoder(inputCol=\"airline_index\", outputCol=\"airline_fact\")"
   ]
  },
  {
   "cell_type": "code",
   "execution_count": 37,
   "id": "185a534f",
   "metadata": {
    "execution": {
     "iopub.execute_input": "2022-03-20T13:15:52.358989Z",
     "iopub.status.busy": "2022-03-20T13:15:52.356968Z",
     "iopub.status.idle": "2022-03-20T13:15:52.369745Z",
     "shell.execute_reply": "2022-03-20T13:15:52.370276Z",
     "shell.execute_reply.started": "2022-03-20T10:30:20.935176Z"
    },
    "papermill": {
     "duration": 0.260195,
     "end_time": "2022-03-20T13:15:52.370480",
     "exception": false,
     "start_time": "2022-03-20T13:15:52.110285",
     "status": "completed"
    },
    "tags": []
   },
   "outputs": [],
   "source": [
    "# Create a StringIndexer\n",
    "dest_indexer = StringIndexer(inputCol=\"DESTINATION_AIRPORT\", outputCol=\"dest_index\")\n",
    "\n",
    "# Create a OneHotEncoder\n",
    "dest_encoder = OneHotEncoder(inputCol=\"dest_index\", outputCol=\"dest_fact\")"
   ]
  },
  {
   "cell_type": "code",
   "execution_count": 38,
   "id": "e5d134f1",
   "metadata": {
    "execution": {
     "iopub.execute_input": "2022-03-20T13:15:52.867683Z",
     "iopub.status.busy": "2022-03-20T13:15:52.866955Z",
     "iopub.status.idle": "2022-03-20T13:15:52.880351Z",
     "shell.execute_reply": "2022-03-20T13:15:52.880892Z",
     "shell.execute_reply.started": "2022-03-20T10:30:20.955532Z"
    },
    "papermill": {
     "duration": 0.264488,
     "end_time": "2022-03-20T13:15:52.881099",
     "exception": false,
     "start_time": "2022-03-20T13:15:52.616611",
     "status": "completed"
    },
    "tags": []
   },
   "outputs": [],
   "source": [
    "# Create a StringIndexer\n",
    "tail_indexer = StringIndexer(inputCol=\"TAIL_NUMBER\", outputCol=\"tail_index\")\n",
    "\n",
    "# Create a OneHotEncoder\n",
    "tail_encoder = OneHotEncoder(inputCol=\"tail_index\", outputCol=\"tail_fact\")"
   ]
  },
  {
   "cell_type": "code",
   "execution_count": 39,
   "id": "107e57c9",
   "metadata": {
    "execution": {
     "iopub.execute_input": "2022-03-20T13:15:53.374621Z",
     "iopub.status.busy": "2022-03-20T13:15:53.373912Z",
     "iopub.status.idle": "2022-03-20T13:15:53.391059Z",
     "shell.execute_reply": "2022-03-20T13:15:53.391619Z",
     "shell.execute_reply.started": "2022-03-20T10:30:20.988699Z"
    },
    "papermill": {
     "duration": 0.264169,
     "end_time": "2022-03-20T13:15:53.391803",
     "exception": false,
     "start_time": "2022-03-20T13:15:53.127634",
     "status": "completed"
    },
    "tags": []
   },
   "outputs": [],
   "source": [
    "from pyspark.ml.feature import VectorAssembler\n",
    "\n",
    "# Make a VectorAssembler of 'MONTH', 'DAY_OF_WEEK', 'AIR_TIME', 'DISTANCE', 'ARRIVAL_DELAY','AIRLINE', 'TAIL_NUMBER', 'DESTINATION_AIRPORT'\n",
    "vec_assembler = VectorAssembler(inputCols=[\"MONTH\", \"DAY_OF_WEEK\", \"AIR_TIME\", \"DISTANCE\", \"airline_fact\", \"dest_fact\", \"tail_fact\"], outputCol=\"features\")"
   ]
  },
  {
   "cell_type": "code",
   "execution_count": 40,
   "id": "8d23f22e",
   "metadata": {
    "execution": {
     "iopub.execute_input": "2022-03-20T13:15:53.891828Z",
     "iopub.status.busy": "2022-03-20T13:15:53.890831Z",
     "iopub.status.idle": "2022-03-20T13:15:53.893711Z",
     "shell.execute_reply": "2022-03-20T13:15:53.893181Z",
     "shell.execute_reply.started": "2022-03-20T10:30:21.010186Z"
    },
    "papermill": {
     "duration": 0.254672,
     "end_time": "2022-03-20T13:15:53.893900",
     "exception": false,
     "start_time": "2022-03-20T13:15:53.639228",
     "status": "completed"
    },
    "tags": []
   },
   "outputs": [],
   "source": [
    "# Import Pipeline\n",
    "from pyspark.ml import Pipeline\n",
    "\n",
    "# Make the pipeline\n",
    "flights_pipe = Pipeline(stages=[dest_indexer, dest_encoder, airline_indexer, airline_encoder, tail_indexer, tail_encoder, vec_assembler])"
   ]
  },
  {
   "cell_type": "code",
   "execution_count": 41,
   "id": "1d629de4",
   "metadata": {
    "execution": {
     "iopub.execute_input": "2022-03-20T13:15:54.389106Z",
     "iopub.status.busy": "2022-03-20T13:15:54.388321Z",
     "iopub.status.idle": "2022-03-20T13:16:55.069820Z",
     "shell.execute_reply": "2022-03-20T13:16:55.069186Z",
     "shell.execute_reply.started": "2022-03-20T10:30:21.018561Z"
    },
    "papermill": {
     "duration": 60.931012,
     "end_time": "2022-03-20T13:16:55.070010",
     "exception": false,
     "start_time": "2022-03-20T13:15:54.138998",
     "status": "completed"
    },
    "tags": []
   },
   "outputs": [
    {
     "name": "stderr",
     "output_type": "stream",
     "text": [
      "                                                                                \r"
     ]
    }
   ],
   "source": [
    "piped_data = flights_pipe.fit(model_data).transform(model_data)"
   ]
  },
  {
   "cell_type": "code",
   "execution_count": 42,
   "id": "8de75e5b",
   "metadata": {
    "execution": {
     "iopub.execute_input": "2022-03-20T13:16:55.583548Z",
     "iopub.status.busy": "2022-03-20T13:16:55.582803Z",
     "iopub.status.idle": "2022-03-20T13:16:55.614872Z",
     "shell.execute_reply": "2022-03-20T13:16:55.615457Z",
     "shell.execute_reply.started": "2022-03-20T11:24:32.641193Z"
    },
    "papermill": {
     "duration": 0.290094,
     "end_time": "2022-03-20T13:16:55.615637",
     "exception": false,
     "start_time": "2022-03-20T13:16:55.325543",
     "status": "completed"
    },
    "tags": []
   },
   "outputs": [],
   "source": [
    "train_data, test_data = piped_data.randomSplit([.7, .3])"
   ]
  },
  {
   "cell_type": "code",
   "execution_count": 43,
   "id": "1f3b6f70",
   "metadata": {
    "execution": {
     "iopub.execute_input": "2022-03-20T13:16:56.120817Z",
     "iopub.status.busy": "2022-03-20T13:16:56.120154Z",
     "iopub.status.idle": "2022-03-20T13:19:29.420942Z",
     "shell.execute_reply": "2022-03-20T13:19:29.421556Z",
     "shell.execute_reply.started": "2022-03-20T10:31:20.329479Z"
    },
    "papermill": {
     "duration": 153.554573,
     "end_time": "2022-03-20T13:19:29.421988",
     "exception": false,
     "start_time": "2022-03-20T13:16:55.867415",
     "status": "completed"
    },
    "tags": []
   },
   "outputs": [
    {
     "name": "stderr",
     "output_type": "stream",
     "text": [
      "                                                                                \r"
     ]
    },
    {
     "name": "stdout",
     "output_type": "stream",
     "text": [
      "data points(rows) in train data : 4000289\n"
     ]
    },
    {
     "name": "stderr",
     "output_type": "stream",
     "text": [
      "[Stage 72:==============================================>           (4 + 1) / 5]\r"
     ]
    },
    {
     "name": "stdout",
     "output_type": "stream",
     "text": [
      "data points(rows) in train data : 1713719\n"
     ]
    },
    {
     "name": "stderr",
     "output_type": "stream",
     "text": [
      "                                                                                \r"
     ]
    }
   ],
   "source": [
    "print('data points(rows) in train data :',  train_data.count())\n",
    "print('data points(rows) in train data :',  test_data.count())"
   ]
  },
  {
   "cell_type": "code",
   "execution_count": 44,
   "id": "bea398a8",
   "metadata": {
    "execution": {
     "iopub.execute_input": "2022-03-20T13:19:29.962453Z",
     "iopub.status.busy": "2022-03-20T13:19:29.961724Z",
     "iopub.status.idle": "2022-03-20T13:19:30.014302Z",
     "shell.execute_reply": "2022-03-20T13:19:30.014979Z",
     "shell.execute_reply.started": "2022-03-20T10:33:56.202591Z"
    },
    "papermill": {
     "duration": 0.317891,
     "end_time": "2022-03-20T13:19:30.015179",
     "exception": false,
     "start_time": "2022-03-20T13:19:29.697288",
     "status": "completed"
    },
    "tags": []
   },
   "outputs": [],
   "source": [
    "# Import LogisticRegression\n",
    "from pyspark.ml.classification import LogisticRegression\n",
    "\n",
    "# Create a LogisticRegression Estimator\n",
    "lr = LogisticRegression()"
   ]
  },
  {
   "cell_type": "code",
   "execution_count": 45,
   "id": "e5583f2f",
   "metadata": {
    "execution": {
     "iopub.execute_input": "2022-03-20T13:19:30.529723Z",
     "iopub.status.busy": "2022-03-20T13:19:30.528665Z",
     "iopub.status.idle": "2022-03-20T13:19:30.541210Z",
     "shell.execute_reply": "2022-03-20T13:19:30.541860Z",
     "shell.execute_reply.started": "2022-03-20T10:33:56.285416Z"
    },
    "papermill": {
     "duration": 0.27102,
     "end_time": "2022-03-20T13:19:30.542057",
     "exception": false,
     "start_time": "2022-03-20T13:19:30.271037",
     "status": "completed"
    },
    "tags": []
   },
   "outputs": [],
   "source": [
    "# Import the evaluation submodule\n",
    "import pyspark.ml.evaluation as evals\n",
    "\n",
    "# Create a BinaryClassificationEvaluator\n",
    "evaluator = evals.BinaryClassificationEvaluator(metricName=\"areaUnderROC\")"
   ]
  },
  {
   "cell_type": "code",
   "execution_count": 46,
   "id": "f41892cd",
   "metadata": {
    "execution": {
     "iopub.execute_input": "2022-03-20T13:19:31.061662Z",
     "iopub.status.busy": "2022-03-20T13:19:31.060756Z",
     "iopub.status.idle": "2022-03-20T13:19:31.063390Z",
     "shell.execute_reply": "2022-03-20T13:19:31.064016Z",
     "shell.execute_reply.started": "2022-03-20T10:33:56.304397Z"
    },
    "papermill": {
     "duration": 0.265315,
     "end_time": "2022-03-20T13:19:31.064206",
     "exception": false,
     "start_time": "2022-03-20T13:19:30.798891",
     "status": "completed"
    },
    "tags": []
   },
   "outputs": [],
   "source": [
    "# Import the tuning submodule\n",
    "import pyspark.ml.tuning as tune\n",
    "\n",
    "# Create the parameter grid\n",
    "grid1 = tune.ParamGridBuilder()\n",
    "\n",
    "# Add the hyperparameter\n",
    "grid1 = grid1.addGrid(lr.regParam, np.arange(0, .1, .01))\n",
    "grid1 = grid1.addGrid(lr.elasticNetParam, [0, 1])\n",
    "\n",
    "# Build the grid\n",
    "grid1 = grid1.build()"
   ]
  },
  {
   "cell_type": "code",
   "execution_count": 47,
   "id": "48497533",
   "metadata": {
    "execution": {
     "iopub.execute_input": "2022-03-20T13:19:31.586072Z",
     "iopub.status.busy": "2022-03-20T13:19:31.584933Z",
     "iopub.status.idle": "2022-03-20T13:19:31.589931Z",
     "shell.execute_reply": "2022-03-20T13:19:31.590588Z",
     "shell.execute_reply.started": "2022-03-20T10:33:56.315446Z"
    },
    "papermill": {
     "duration": 0.26447,
     "end_time": "2022-03-20T13:19:31.590773",
     "exception": false,
     "start_time": "2022-03-20T13:19:31.326303",
     "status": "completed"
    },
    "tags": []
   },
   "outputs": [],
   "source": [
    "# Create the CrossValidator\n",
    "cv = tune.CrossValidator(estimator=lr,\n",
    "               estimatorParamMaps=grid1,\n",
    "               evaluator=evaluator)"
   ]
  },
  {
   "cell_type": "code",
   "execution_count": 48,
   "id": "1da0f4e5",
   "metadata": {
    "execution": {
     "iopub.execute_input": "2022-03-20T13:19:32.110699Z",
     "iopub.status.busy": "2022-03-20T13:19:32.107571Z",
     "iopub.status.idle": "2022-03-20T13:22:58.756830Z",
     "shell.execute_reply": "2022-03-20T13:22:58.758484Z",
     "shell.execute_reply.started": "2022-03-20T10:33:56.341380Z"
    },
    "papermill": {
     "duration": 206.911486,
     "end_time": "2022-03-20T13:22:58.758871",
     "exception": false,
     "start_time": "2022-03-20T13:19:31.847385",
     "status": "completed"
    },
    "tags": []
   },
   "outputs": [
    {
     "name": "stderr",
     "output_type": "stream",
     "text": [
      "22/04/18 21:22:58 WARN MemoryStore: Not enough space to cache rdd_250_0 in memory! (computed 65.0 MiB so far)\n",
      "22/04/18 21:22:58 WARN BlockManager: Persisting block rdd_250_0 to disk instead.\n",
      "22/04/18 21:23:00 WARN InstanceBuilder$NativeBLAS: Failed to load implementation from:dev.ludovic.netlib.blas.JNIBLAS\n",
      "22/04/18 21:23:00 WARN InstanceBuilder$NativeBLAS: Failed to load implementation from:dev.ludovic.netlib.blas.ForeignLinkerBLAS\n",
      "22/04/18 21:23:50 WARN BLAS: Failed to load implementation from: com.github.fommil.netlib.NativeSystemBLAS\n",
      "22/04/18 21:23:50 WARN BLAS: Failed to load implementation from: com.github.fommil.netlib.NativeRefBLAS\n",
      "                                                                                \r"
     ]
    },
    {
     "name": "stdout",
     "output_type": "stream",
     "text": [
      "LogisticRegressionModel: uid=LogisticRegression_b490e4d431c9, numClasses=2, numFeatures=5540\n"
     ]
    }
   ],
   "source": [
    "# Call lr.fit()\n",
    "best_lr = lr.fit(train_data)\n",
    "\n",
    "# Print best_lr\n",
    "print(best_lr)"
   ]
  },
  {
   "cell_type": "code",
   "execution_count": 49,
   "id": "19ca18b0",
   "metadata": {
    "execution": {
     "iopub.execute_input": "2022-03-20T13:22:59.380975Z",
     "iopub.status.busy": "2022-03-20T13:22:59.379775Z",
     "iopub.status.idle": "2022-03-20T13:24:46.859360Z",
     "shell.execute_reply": "2022-03-20T13:24:46.859930Z",
     "shell.execute_reply.started": "2022-03-20T10:37:26.448895Z"
    },
    "papermill": {
     "duration": 107.758396,
     "end_time": "2022-03-20T13:24:46.860142",
     "exception": false,
     "start_time": "2022-03-20T13:22:59.101746",
     "status": "completed"
    },
    "tags": []
   },
   "outputs": [
    {
     "name": "stderr",
     "output_type": "stream",
     "text": [
      "[Stage 149:=============================================>           (4 + 1) / 5]\r"
     ]
    },
    {
     "name": "stdout",
     "output_type": "stream",
     "text": [
      "0.6266761649417465\n"
     ]
    },
    {
     "name": "stderr",
     "output_type": "stream",
     "text": [
      "                                                                                \r"
     ]
    }
   ],
   "source": [
    "# Use the model to predict the test set\n",
    "test_results = best_lr.transform(test_data)\n",
    "\n",
    "# Evaluate the predictions\n",
    "print(evaluator.evaluate(test_results))"
   ]
  },
  {
   "cell_type": "code",
   "execution_count": 50,
   "id": "ddbb8e6a",
   "metadata": {
    "execution": {
     "iopub.execute_input": "2022-03-20T13:24:47.438140Z",
     "iopub.status.busy": "2022-03-20T13:24:47.437379Z",
     "iopub.status.idle": "2022-03-20T13:24:47.452512Z",
     "shell.execute_reply": "2022-03-20T13:24:47.451869Z",
     "shell.execute_reply.started": "2022-03-20T10:39:23.384598Z"
    },
    "papermill": {
     "duration": 0.305572,
     "end_time": "2022-03-20T13:24:47.452679",
     "exception": false,
     "start_time": "2022-03-20T13:24:47.147107",
     "status": "completed"
    },
    "tags": []
   },
   "outputs": [],
   "source": [
    "from pyspark.ml.classification import LinearSVC\n",
    "\n",
    "lsvc= LinearSVC()"
   ]
  },
  {
   "cell_type": "code",
   "execution_count": 51,
   "id": "40bc1d26",
   "metadata": {
    "execution": {
     "iopub.execute_input": "2022-03-20T13:24:48.028227Z",
     "iopub.status.busy": "2022-03-20T13:24:48.027477Z",
     "iopub.status.idle": "2022-03-20T13:24:48.037943Z",
     "shell.execute_reply": "2022-03-20T13:24:48.038503Z",
     "shell.execute_reply.started": "2022-03-20T10:39:23.413721Z"
    },
    "papermill": {
     "duration": 0.30213,
     "end_time": "2022-03-20T13:24:48.038703",
     "exception": false,
     "start_time": "2022-03-20T13:24:47.736573",
     "status": "completed"
    },
    "tags": []
   },
   "outputs": [],
   "source": [
    "# Import the evaluation submodule\n",
    "import pyspark.ml.evaluation as evals\n",
    "\n",
    "# Create a BinaryClassificationEvaluator\n",
    "evaluator = evals.BinaryClassificationEvaluator(metricName=\"areaUnderROC\")"
   ]
  },
  {
   "cell_type": "code",
   "execution_count": 52,
   "id": "0c544c39",
   "metadata": {
    "execution": {
     "iopub.execute_input": "2022-03-20T13:24:48.616583Z",
     "iopub.status.busy": "2022-03-20T13:24:48.615898Z",
     "iopub.status.idle": "2022-03-20T13:24:48.620789Z",
     "shell.execute_reply": "2022-03-20T13:24:48.621386Z",
     "shell.execute_reply.started": "2022-03-20T10:39:23.439424Z"
    },
    "papermill": {
     "duration": 0.296022,
     "end_time": "2022-03-20T13:24:48.621582",
     "exception": false,
     "start_time": "2022-03-20T13:24:48.325560",
     "status": "completed"
    },
    "tags": []
   },
   "outputs": [],
   "source": [
    "# Import the tuning submodule\n",
    "import pyspark.ml.tuning as tune\n",
    "\n",
    "# Create the parameter grid\n",
    "grid2 = tune.ParamGridBuilder()\n",
    "\n",
    "# Add the hyperparameter\n",
    "grid2 = grid2.addGrid(lsvc.regParam, np.arange(0, .1, .01))\n",
    "\n",
    "\n",
    "# Build the grid\n",
    "grid2 = grid2.build()"
   ]
  },
  {
   "cell_type": "code",
   "execution_count": 53,
   "id": "b0ec3460",
   "metadata": {
    "execution": {
     "iopub.execute_input": "2022-03-20T13:24:49.201050Z",
     "iopub.status.busy": "2022-03-20T13:24:49.200317Z",
     "iopub.status.idle": "2022-03-20T13:24:49.204866Z",
     "shell.execute_reply": "2022-03-20T13:24:49.205470Z",
     "shell.execute_reply.started": "2022-03-20T10:39:23.450117Z"
    },
    "papermill": {
     "duration": 0.297709,
     "end_time": "2022-03-20T13:24:49.205663",
     "exception": false,
     "start_time": "2022-03-20T13:24:48.907954",
     "status": "completed"
    },
    "tags": []
   },
   "outputs": [],
   "source": [
    "# Create the CrossValidator\n",
    "cv = tune.CrossValidator(estimator=lsvc,\n",
    "               estimatorParamMaps=grid2,\n",
    "               evaluator=evaluator)"
   ]
  },
  {
   "cell_type": "code",
   "execution_count": 54,
   "id": "a1382c29",
   "metadata": {
    "execution": {
     "iopub.execute_input": "2022-03-20T13:24:49.790555Z",
     "iopub.status.busy": "2022-03-20T13:24:49.789829Z",
     "iopub.status.idle": "2022-03-20T13:28:38.339263Z",
     "shell.execute_reply": "2022-03-20T13:28:38.340097Z",
     "shell.execute_reply.started": "2022-03-20T10:39:23.462350Z"
    },
    "papermill": {
     "duration": 228.844694,
     "end_time": "2022-03-20T13:28:38.340376",
     "exception": false,
     "start_time": "2022-03-20T13:24:49.495682",
     "status": "completed"
    },
    "tags": []
   },
   "outputs": [
    {
     "name": "stderr",
     "output_type": "stream",
     "text": [
      "22/04/18 21:26:32 WARN MemoryStore: Not enough space to cache rdd_364_0 in memory! (computed 65.0 MiB so far)\n",
      "22/04/18 21:26:32 WARN BlockManager: Persisting block rdd_364_0 to disk instead.\n",
      "                                                                                \r"
     ]
    },
    {
     "name": "stdout",
     "output_type": "stream",
     "text": [
      "LinearSVCModel: uid=LinearSVC_404a4d7f7f60, numClasses=2, numFeatures=5540\n"
     ]
    }
   ],
   "source": [
    "# Call lsvc.fit()\n",
    "best_lsvc = lsvc.fit(train_data)\n",
    "\n",
    "# Print best_lr\n",
    "print(best_lsvc)"
   ]
  },
  {
   "cell_type": "code",
   "execution_count": 55,
   "id": "9a9c8bc4",
   "metadata": {
    "execution": {
     "iopub.execute_input": "2022-03-20T13:28:38.928697Z",
     "iopub.status.busy": "2022-03-20T13:28:38.927604Z",
     "iopub.status.idle": "2022-03-20T13:30:26.803407Z",
     "shell.execute_reply": "2022-03-20T13:30:26.802747Z",
     "shell.execute_reply.started": "2022-03-20T10:43:46.603045Z"
    },
    "papermill": {
     "duration": 108.170646,
     "end_time": "2022-03-20T13:30:26.803587",
     "exception": false,
     "start_time": "2022-03-20T13:28:38.632941",
     "status": "completed"
    },
    "tags": []
   },
   "outputs": [
    {
     "name": "stderr",
     "output_type": "stream",
     "text": [
      "[Stage 374:=============================================>           (4 + 1) / 5]\r"
     ]
    },
    {
     "name": "stdout",
     "output_type": "stream",
     "text": [
      "0.6146774680928659\n"
     ]
    },
    {
     "name": "stderr",
     "output_type": "stream",
     "text": [
      "                                                                                \r"
     ]
    }
   ],
   "source": [
    "# Use the model to predict the test set\n",
    "test_results = best_lsvc.transform(test_data)\n",
    "\n",
    "# Evaluate the predictions\n",
    "print(evaluator.evaluate(test_results))"
   ]
  },
  {
   "cell_type": "code",
   "execution_count": 56,
   "id": "3a78f449",
   "metadata": {
    "execution": {
     "iopub.execute_input": "2022-03-20T13:30:27.459676Z",
     "iopub.status.busy": "2022-03-20T13:30:27.458892Z",
     "iopub.status.idle": "2022-03-20T13:57:18.877530Z",
     "shell.execute_reply": "2022-03-20T13:57:18.878114Z",
     "shell.execute_reply.started": "2022-03-20T10:52:16.483214Z"
    },
    "papermill": {
     "duration": 1611.765155,
     "end_time": "2022-03-20T13:57:18.878455",
     "exception": false,
     "start_time": "2022-03-20T13:30:27.113300",
     "status": "completed"
    },
    "tags": []
   },
   "outputs": [
    {
     "name": "stderr",
     "output_type": "stream",
     "text": [
      "22/04/18 21:31:55 WARN MemoryStore: Not enough space to cache rdd_642_0 in memory! (computed 55.2 MiB so far)\n",
      "22/04/18 21:31:55 WARN BlockManager: Persisting block rdd_642_0 to disk instead.\n",
      "22/04/18 21:32:48 WARN MemoryStore: Not enough space to cache rdd_642_0 in memory! (computed 326.0 MiB so far)\n",
      "22/04/18 21:33:20 WARN MemoryStore: Not enough space to cache rdd_642_1 in memory! (computed 55.2 MiB so far)\n",
      "22/04/18 21:33:20 WARN BlockManager: Persisting block rdd_642_1 to disk instead.\n",
      "22/04/18 21:34:10 WARN MemoryStore: Not enough space to cache rdd_642_1 in memory! (computed 326.0 MiB so far)\n",
      "[Stage 382:======================>                                  (2 + 1) / 5]\r"
     ]
    }
   ],
   "source": [
    "from pyspark.ml.classification import DecisionTreeClassifier\n",
    "dt = DecisionTreeClassifier()\n",
    "\n",
    "\n",
    "# Import the evaluation submodule\n",
    "import pyspark.ml.evaluation as evals\n",
    "\n",
    "# Create a BinaryClassificationEvaluator\n",
    "evaluator = evals.BinaryClassificationEvaluator(metricName=\"areaUnderROC\")\n",
    "\n",
    "# Import the tuning submodule\n",
    "import pyspark.ml.tuning as tune\n",
    "\n",
    "# Create the parameter grid\n",
    "grid3 = tune.ParamGridBuilder()\n",
    "\n",
    "# Build the grid\n",
    "grid3 = grid3.build()\n",
    "\n",
    "# Create the CrossValidator\n",
    "cv = tune.CrossValidator(estimator=dt,\n",
    "               estimatorParamMaps=grid3,\n",
    "               evaluator=evaluator)\n",
    "\n",
    "\n",
    "# Call dt.fit()\n",
    "best_dt = dt.fit(train_data)\n",
    "\n",
    "# Print best_dt\n",
    "print(best_dt)\n",
    "\n",
    "\n",
    "# Use the model to predict the test set\n",
    "test_results = best_dt.transform(test_data)\n",
    "\n",
    "# Evaluate the predictions\n",
    "print(evaluator.evaluate(test_results))\n",
    "\n",
    "\n",
    "\n",
    "\n"
   ]
  },
  {
   "cell_type": "code",
   "execution_count": null,
   "id": "a9c82337",
   "metadata": {
    "execution": {
     "iopub.execute_input": "2022-03-20T13:57:19.566734Z",
     "iopub.status.busy": "2022-03-20T13:57:19.565962Z",
     "iopub.status.idle": "2022-03-20T14:23:26.962386Z",
     "shell.execute_reply": "2022-03-20T14:23:26.963299Z",
     "shell.execute_reply.started": "2022-03-20T12:17:32.555811Z"
    },
    "papermill": {
     "duration": 1567.743532,
     "end_time": "2022-03-20T14:23:26.963583",
     "exception": false,
     "start_time": "2022-03-20T13:57:19.220051",
     "status": "completed"
    },
    "tags": []
   },
   "outputs": [
    {
     "name": "stderr",
     "output_type": "stream",
     "text": [
      "22/03/20 14:01:23 WARN MemoryStore: Not enough space to cache rdd_689_0 in memory! (computed 55.4 MiB so far)\n",
      "22/03/20 14:01:23 WARN BlockManager: Persisting block rdd_689_0 to disk instead.\n",
      "22/03/20 14:02:56 WARN MemoryStore: Not enough space to cache rdd_689_0 in memory! (computed 327.3 MiB so far)\n",
      "22/03/20 14:03:44 WARN MemoryStore: Not enough space to cache rdd_689_1 in memory! (computed 55.4 MiB so far)\n",
      "22/03/20 14:03:44 WARN BlockManager: Persisting block rdd_689_1 to disk instead.\n",
      "22/03/20 14:05:18 WARN MemoryStore: Not enough space to cache rdd_689_1 in memory! (computed 327.3 MiB so far)\n",
      "22/03/20 14:06:07 WARN MemoryStore: Not enough space to cache rdd_689_2 in memory! (computed 55.4 MiB so far)\n",
      "22/03/20 14:06:07 WARN BlockManager: Persisting block rdd_689_2 to disk instead.\n",
      "22/03/20 14:07:41 WARN MemoryStore: Not enough space to cache rdd_689_2 in memory! (computed 327.3 MiB so far)\n",
      "22/03/20 14:08:29 WARN MemoryStore: Not enough space to cache rdd_689_3 in memory! (computed 55.4 MiB so far)\n",
      "22/03/20 14:08:29 WARN BlockManager: Persisting block rdd_689_3 to disk instead.\n",
      "22/03/20 14:10:02 WARN MemoryStore: Not enough space to cache rdd_689_3 in memory! (computed 327.3 MiB so far)\n",
      "22/03/20 14:10:41 WARN MemoryStore: Not enough space to cache rdd_689_4 in memory! (computed 94.9 MiB so far)\n",
      "22/03/20 14:10:41 WARN BlockManager: Persisting block rdd_689_4 to disk instead.\n",
      "22/03/20 14:11:19 WARN MemoryStore: Not enough space to cache rdd_689_4 in memory! (computed 327.3 MiB so far)\n",
      "22/03/20 14:11:33 WARN DAGScheduler: Broadcasting large task binary with size 1007.6 KiB\n",
      "22/03/20 14:11:34 WARN MemoryStore: Not enough space to cache rdd_689_0 in memory! (computed 327.3 MiB so far)\n",
      "22/03/20 14:12:08 WARN MemoryStore: Not enough space to cache rdd_689_1 in memory! (computed 327.3 MiB so far)\n",
      "22/03/20 14:12:47 WARN MemoryStore: Not enough space to cache rdd_689_2 in memory! (computed 327.3 MiB so far)\n",
      "22/03/20 14:13:23 WARN MemoryStore: Not enough space to cache rdd_689_3 in memory! (computed 327.3 MiB so far)\n",
      "22/03/20 14:13:59 WARN MemoryStore: Not enough space to cache rdd_689_4 in memory! (computed 327.3 MiB so far)\n",
      "22/03/20 14:14:13 WARN DAGScheduler: Broadcasting large task binary with size 1026.9 KiB\n",
      "22/03/20 14:14:14 WARN MemoryStore: Not enough space to cache rdd_689_0 in memory! (computed 327.3 MiB so far)\n",
      "22/03/20 14:14:49 WARN MemoryStore: Not enough space to cache rdd_689_1 in memory! (computed 327.3 MiB so far)\n",
      "22/03/20 14:15:24 WARN MemoryStore: Not enough space to cache rdd_689_2 in memory! (computed 327.3 MiB so far)\n",
      "22/03/20 14:15:59 WARN MemoryStore: Not enough space to cache rdd_689_3 in memory! (computed 327.3 MiB so far)\n",
      "22/03/20 14:16:33 WARN MemoryStore: Not enough space to cache rdd_689_4 in memory! (computed 327.3 MiB so far)\n",
      "22/03/20 14:16:48 WARN DAGScheduler: Broadcasting large task binary with size 1053.1 KiB\n",
      "22/03/20 14:16:49 WARN MemoryStore: Not enough space to cache rdd_689_0 in memory! (computed 327.3 MiB so far)\n",
      "22/03/20 14:17:24 WARN MemoryStore: Not enough space to cache rdd_689_1 in memory! (computed 327.3 MiB so far)\n",
      "22/03/20 14:18:00 WARN MemoryStore: Not enough space to cache rdd_689_2 in memory! (computed 327.3 MiB so far)\n",
      "22/03/20 14:18:35 WARN MemoryStore: Not enough space to cache rdd_689_3 in memory! (computed 327.3 MiB so far)\n",
      "22/03/20 14:19:10 WARN MemoryStore: Not enough space to cache rdd_689_4 in memory! (computed 327.3 MiB so far)\n",
      "22/03/20 14:19:25 WARN DAGScheduler: Broadcasting large task binary with size 1076.5 KiB\n",
      "22/03/20 14:19:25 WARN MemoryStore: Not enough space to cache rdd_689_0 in memory! (computed 327.3 MiB so far)\n",
      "22/03/20 14:20:01 WARN MemoryStore: Not enough space to cache rdd_689_1 in memory! (computed 327.3 MiB so far)\n",
      "22/03/20 14:20:37 WARN MemoryStore: Not enough space to cache rdd_689_2 in memory! (computed 327.3 MiB so far)\n",
      "22/03/20 14:21:13 WARN MemoryStore: Not enough space to cache rdd_689_3 in memory! (computed 327.3 MiB so far)\n",
      "22/03/20 14:21:49 WARN MemoryStore: Not enough space to cache rdd_689_4 in memory! (computed 327.3 MiB so far)\n",
      "                                                                                \r"
     ]
    },
    {
     "name": "stdout",
     "output_type": "stream",
     "text": [
      "RandomForestClassificationModel: uid=RandomForestClassifier_fa978c1a6a00, numTrees=20, numClasses=2, numFeatures=5540\n"
     ]
    },
    {
     "name": "stderr",
     "output_type": "stream",
     "text": [
      "                                                                                \r"
     ]
    },
    {
     "name": "stdout",
     "output_type": "stream",
     "text": [
      "0.5418877358770496\n"
     ]
    }
   ],
   "source": [
    "from pyspark.ml.classification import RandomForestClassifier\n",
    "rf = RandomForestClassifier()\n",
    "\n",
    "# Import the evaluation submodule\n",
    "import pyspark.ml.evaluation as evals\n",
    "\n",
    "# Create a BinaryClassificationEvaluator\n",
    "evaluator = evals.BinaryClassificationEvaluator(metricName=\"areaUnderROC\")\n",
    "\n",
    "# Import the tuning submodule\n",
    "import pyspark.ml.tuning as tune\n",
    "\n",
    "# Create the parameter grid\n",
    "grid4 = tune.ParamGridBuilder()\n",
    "\n",
    "# Build the grid\n",
    "grid4 = grid4.build()\n",
    "\n",
    "# Create the CrossValidator\n",
    "cv = tune.CrossValidator(estimator=rf,\n",
    "               estimatorParamMaps=grid4,\n",
    "               evaluator=evaluator)\n",
    "\n",
    "\n",
    "# Call rf.fit()\n",
    "best_rf = rf.fit(train_data)\n",
    "\n",
    "# Print best_rf\n",
    "print(best_rf)\n",
    "\n",
    "\n",
    "# Use the model to predict the test set\n",
    "test_results = best_rf.transform(test_data)\n",
    "\n",
    "# Evaluate the predictions\n",
    "print(evaluator.evaluate(test_results))\n",
    "\n",
    "\n"
   ]
  }
 ],
 "metadata": {
  "kernelspec": {
   "display_name": "Python 3",
   "language": "python",
   "name": "python3"
  },
  "language_info": {
   "codemirror_mode": {
    "name": "ipython",
    "version": 3
   },
   "file_extension": ".py",
   "mimetype": "text/x-python",
   "name": "python",
   "nbconvert_exporter": "python",
   "pygments_lexer": "ipython3",
   "version": "3.8.10"
  },
  "papermill": {
   "default_parameters": {},
   "duration": 4334.874432,
   "end_time": "2022-03-20T14:23:28.384542",
   "environment_variables": {},
   "exception": null,
   "input_path": "__notebook__.ipynb",
   "output_path": "__notebook__.ipynb",
   "parameters": {},
   "start_time": "2022-03-20T13:11:13.510110",
   "version": "2.3.3"
  }
 },
 "nbformat": 4,
 "nbformat_minor": 5
}
