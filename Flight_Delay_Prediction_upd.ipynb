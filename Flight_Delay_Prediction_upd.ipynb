{
  "cells": [
    {
      "cell_type": "code",
      "execution_count": 1,
      "id": "ukoffHt0O6At",
      "metadata": {
        "colab": {
          "base_uri": "https://localhost:8080/"
        },
        "id": "ukoffHt0O6At",
        "outputId": "6c43fdd2-7dd3-435e-a607-c40219eba65d"
      },
      "outputs": [
        {
          "name": "stdout",
          "output_type": "stream",
          "text": [
            "cuda_malloc_async\n"
          ]
        }
      ],
      "source": [
        "import os\n",
        "os.environ['TF_GPU_ALLOCATOR'] = 'cuda_malloc_async'\n",
        "print(os.getenv('TF_GPU_ALLOCATOR'))"
      ]
    },
    {
      "cell_type": "code",
      "execution_count": 2,
      "id": "3B_H3PxPSvfr",
      "metadata": {
        "colab": {
          "base_uri": "https://localhost:8080/",
          "height": 488
        },
        "id": "3B_H3PxPSvfr",
        "outputId": "48a635d7-ac78-407f-80a9-dea01b64c7ac"
      },
      "outputs": [
        {
          "data": {
            "text/html": [
              "<div>\n",
              "<style scoped>\n",
              "    .dataframe tbody tr th:only-of-type {\n",
              "        vertical-align: middle;\n",
              "    }\n",
              "\n",
              "    .dataframe tbody tr th {\n",
              "        vertical-align: top;\n",
              "    }\n",
              "\n",
              "    .dataframe thead th {\n",
              "        text-align: right;\n",
              "    }\n",
              "</style>\n",
              "<table border=\"1\" class=\"dataframe\">\n",
              "  <thead>\n",
              "    <tr style=\"text-align: right;\">\n",
              "      <th></th>\n",
              "      <th>IATA_CODE</th>\n",
              "      <th>AIRLINE</th>\n",
              "    </tr>\n",
              "  </thead>\n",
              "  <tbody>\n",
              "    <tr>\n",
              "      <th>0</th>\n",
              "      <td>UA</td>\n",
              "      <td>United Air Lines Inc.</td>\n",
              "    </tr>\n",
              "    <tr>\n",
              "      <th>1</th>\n",
              "      <td>AA</td>\n",
              "      <td>American Airlines Inc.</td>\n",
              "    </tr>\n",
              "    <tr>\n",
              "      <th>2</th>\n",
              "      <td>US</td>\n",
              "      <td>US Airways Inc.</td>\n",
              "    </tr>\n",
              "    <tr>\n",
              "      <th>3</th>\n",
              "      <td>F9</td>\n",
              "      <td>Frontier Airlines Inc.</td>\n",
              "    </tr>\n",
              "    <tr>\n",
              "      <th>4</th>\n",
              "      <td>B6</td>\n",
              "      <td>JetBlue Airways</td>\n",
              "    </tr>\n",
              "    <tr>\n",
              "      <th>5</th>\n",
              "      <td>OO</td>\n",
              "      <td>Skywest Airlines Inc.</td>\n",
              "    </tr>\n",
              "    <tr>\n",
              "      <th>6</th>\n",
              "      <td>AS</td>\n",
              "      <td>Alaska Airlines Inc.</td>\n",
              "    </tr>\n",
              "    <tr>\n",
              "      <th>7</th>\n",
              "      <td>NK</td>\n",
              "      <td>Spirit Air Lines</td>\n",
              "    </tr>\n",
              "    <tr>\n",
              "      <th>8</th>\n",
              "      <td>WN</td>\n",
              "      <td>Southwest Airlines Co.</td>\n",
              "    </tr>\n",
              "    <tr>\n",
              "      <th>9</th>\n",
              "      <td>DL</td>\n",
              "      <td>Delta Air Lines Inc.</td>\n",
              "    </tr>\n",
              "    <tr>\n",
              "      <th>10</th>\n",
              "      <td>EV</td>\n",
              "      <td>Atlantic Southeast Airlines</td>\n",
              "    </tr>\n",
              "    <tr>\n",
              "      <th>11</th>\n",
              "      <td>HA</td>\n",
              "      <td>Hawaiian Airlines Inc.</td>\n",
              "    </tr>\n",
              "    <tr>\n",
              "      <th>12</th>\n",
              "      <td>MQ</td>\n",
              "      <td>American Eagle Airlines Inc.</td>\n",
              "    </tr>\n",
              "    <tr>\n",
              "      <th>13</th>\n",
              "      <td>VX</td>\n",
              "      <td>Virgin America</td>\n",
              "    </tr>\n",
              "  </tbody>\n",
              "</table>\n",
              "</div>"
            ],
            "text/plain": [
              "   IATA_CODE                       AIRLINE\n",
              "0         UA         United Air Lines Inc.\n",
              "1         AA        American Airlines Inc.\n",
              "2         US               US Airways Inc.\n",
              "3         F9        Frontier Airlines Inc.\n",
              "4         B6               JetBlue Airways\n",
              "5         OO         Skywest Airlines Inc.\n",
              "6         AS          Alaska Airlines Inc.\n",
              "7         NK              Spirit Air Lines\n",
              "8         WN        Southwest Airlines Co.\n",
              "9         DL          Delta Air Lines Inc.\n",
              "10        EV   Atlantic Southeast Airlines\n",
              "11        HA        Hawaiian Airlines Inc.\n",
              "12        MQ  American Eagle Airlines Inc.\n",
              "13        VX                Virgin America"
            ]
          },
          "execution_count": 2,
          "metadata": {},
          "output_type": "execute_result"
        }
      ],
      "source": [
        "import numpy as np\n",
        "import pandas as pd\n",
        "\n",
        "airlines = pd.read_csv(\"/mnt/c/Users/lokes/Downloads/airlines.csv\")\n",
        "airlines"
      ]
    },
    {
      "cell_type": "code",
      "execution_count": 3,
      "id": "zyo90IFLUHWB",
      "metadata": {
        "colab": {
          "base_uri": "https://localhost:8080/",
          "height": 423
        },
        "id": "zyo90IFLUHWB",
        "outputId": "e89fb119-6fd0-4e0c-ecc9-f2213f7bc9c6"
      },
      "outputs": [
        {
          "data": {
            "text/html": [
              "<div>\n",
              "<style scoped>\n",
              "    .dataframe tbody tr th:only-of-type {\n",
              "        vertical-align: middle;\n",
              "    }\n",
              "\n",
              "    .dataframe tbody tr th {\n",
              "        vertical-align: top;\n",
              "    }\n",
              "\n",
              "    .dataframe thead th {\n",
              "        text-align: right;\n",
              "    }\n",
              "</style>\n",
              "<table border=\"1\" class=\"dataframe\">\n",
              "  <thead>\n",
              "    <tr style=\"text-align: right;\">\n",
              "      <th></th>\n",
              "      <th>IATA_CODE</th>\n",
              "      <th>AIRPORT</th>\n",
              "      <th>CITY</th>\n",
              "      <th>STATE</th>\n",
              "      <th>COUNTRY</th>\n",
              "      <th>LATITUDE</th>\n",
              "      <th>LONGITUDE</th>\n",
              "    </tr>\n",
              "  </thead>\n",
              "  <tbody>\n",
              "    <tr>\n",
              "      <th>0</th>\n",
              "      <td>ABE</td>\n",
              "      <td>Lehigh Valley International Airport</td>\n",
              "      <td>Allentown</td>\n",
              "      <td>PA</td>\n",
              "      <td>USA</td>\n",
              "      <td>40.65236</td>\n",
              "      <td>-75.44040</td>\n",
              "    </tr>\n",
              "    <tr>\n",
              "      <th>1</th>\n",
              "      <td>ABI</td>\n",
              "      <td>Abilene Regional Airport</td>\n",
              "      <td>Abilene</td>\n",
              "      <td>TX</td>\n",
              "      <td>USA</td>\n",
              "      <td>32.41132</td>\n",
              "      <td>-99.68190</td>\n",
              "    </tr>\n",
              "    <tr>\n",
              "      <th>2</th>\n",
              "      <td>ABQ</td>\n",
              "      <td>Albuquerque International Sunport</td>\n",
              "      <td>Albuquerque</td>\n",
              "      <td>NM</td>\n",
              "      <td>USA</td>\n",
              "      <td>35.04022</td>\n",
              "      <td>-106.60919</td>\n",
              "    </tr>\n",
              "    <tr>\n",
              "      <th>3</th>\n",
              "      <td>ABR</td>\n",
              "      <td>Aberdeen Regional Airport</td>\n",
              "      <td>Aberdeen</td>\n",
              "      <td>SD</td>\n",
              "      <td>USA</td>\n",
              "      <td>45.44906</td>\n",
              "      <td>-98.42183</td>\n",
              "    </tr>\n",
              "    <tr>\n",
              "      <th>4</th>\n",
              "      <td>ABY</td>\n",
              "      <td>Southwest Georgia Regional Airport</td>\n",
              "      <td>Albany</td>\n",
              "      <td>GA</td>\n",
              "      <td>USA</td>\n",
              "      <td>31.53552</td>\n",
              "      <td>-84.19447</td>\n",
              "    </tr>\n",
              "    <tr>\n",
              "      <th>...</th>\n",
              "      <td>...</td>\n",
              "      <td>...</td>\n",
              "      <td>...</td>\n",
              "      <td>...</td>\n",
              "      <td>...</td>\n",
              "      <td>...</td>\n",
              "      <td>...</td>\n",
              "    </tr>\n",
              "    <tr>\n",
              "      <th>317</th>\n",
              "      <td>WRG</td>\n",
              "      <td>Wrangell Airport</td>\n",
              "      <td>Wrangell</td>\n",
              "      <td>AK</td>\n",
              "      <td>USA</td>\n",
              "      <td>56.48433</td>\n",
              "      <td>-132.36982</td>\n",
              "    </tr>\n",
              "    <tr>\n",
              "      <th>318</th>\n",
              "      <td>WYS</td>\n",
              "      <td>Westerly State Airport</td>\n",
              "      <td>West Yellowstone</td>\n",
              "      <td>MT</td>\n",
              "      <td>USA</td>\n",
              "      <td>44.68840</td>\n",
              "      <td>-111.11764</td>\n",
              "    </tr>\n",
              "    <tr>\n",
              "      <th>319</th>\n",
              "      <td>XNA</td>\n",
              "      <td>Northwest Arkansas Regional Airport</td>\n",
              "      <td>Fayetteville/Springdale/Rogers</td>\n",
              "      <td>AR</td>\n",
              "      <td>USA</td>\n",
              "      <td>36.28187</td>\n",
              "      <td>-94.30681</td>\n",
              "    </tr>\n",
              "    <tr>\n",
              "      <th>320</th>\n",
              "      <td>YAK</td>\n",
              "      <td>Yakutat Airport</td>\n",
              "      <td>Yakutat</td>\n",
              "      <td>AK</td>\n",
              "      <td>USA</td>\n",
              "      <td>59.50336</td>\n",
              "      <td>-139.66023</td>\n",
              "    </tr>\n",
              "    <tr>\n",
              "      <th>321</th>\n",
              "      <td>YUM</td>\n",
              "      <td>Yuma International Airport</td>\n",
              "      <td>Yuma</td>\n",
              "      <td>AZ</td>\n",
              "      <td>USA</td>\n",
              "      <td>32.65658</td>\n",
              "      <td>-114.60597</td>\n",
              "    </tr>\n",
              "  </tbody>\n",
              "</table>\n",
              "<p>322 rows × 7 columns</p>\n",
              "</div>"
            ],
            "text/plain": [
              "    IATA_CODE                              AIRPORT  \\\n",
              "0         ABE  Lehigh Valley International Airport   \n",
              "1         ABI             Abilene Regional Airport   \n",
              "2         ABQ    Albuquerque International Sunport   \n",
              "3         ABR            Aberdeen Regional Airport   \n",
              "4         ABY   Southwest Georgia Regional Airport   \n",
              "..        ...                                  ...   \n",
              "317       WRG                     Wrangell Airport   \n",
              "318       WYS               Westerly State Airport   \n",
              "319       XNA  Northwest Arkansas Regional Airport   \n",
              "320       YAK                      Yakutat Airport   \n",
              "321       YUM           Yuma International Airport   \n",
              "\n",
              "                               CITY STATE COUNTRY  LATITUDE  LONGITUDE  \n",
              "0                         Allentown    PA     USA  40.65236  -75.44040  \n",
              "1                           Abilene    TX     USA  32.41132  -99.68190  \n",
              "2                       Albuquerque    NM     USA  35.04022 -106.60919  \n",
              "3                          Aberdeen    SD     USA  45.44906  -98.42183  \n",
              "4                            Albany    GA     USA  31.53552  -84.19447  \n",
              "..                              ...   ...     ...       ...        ...  \n",
              "317                        Wrangell    AK     USA  56.48433 -132.36982  \n",
              "318                West Yellowstone    MT     USA  44.68840 -111.11764  \n",
              "319  Fayetteville/Springdale/Rogers    AR     USA  36.28187  -94.30681  \n",
              "320                         Yakutat    AK     USA  59.50336 -139.66023  \n",
              "321                            Yuma    AZ     USA  32.65658 -114.60597  \n",
              "\n",
              "[322 rows x 7 columns]"
            ]
          },
          "execution_count": 3,
          "metadata": {},
          "output_type": "execute_result"
        }
      ],
      "source": [
        "airports = pd.read_csv(\"/mnt/c/Users/lokes/Downloads/airports.csv\")\n",
        "airports"
      ]
    },
    {
      "cell_type": "code",
      "execution_count": 4,
      "id": "EDhK5EklUM6U",
      "metadata": {
        "colab": {
          "base_uri": "https://localhost:8080/",
          "height": 523
        },
        "id": "EDhK5EklUM6U",
        "outputId": "972c1bc2-ced1-4a34-8392-65c6d08d4737"
      },
      "outputs": [
        {
          "name": "stderr",
          "output_type": "stream",
          "text": [
            "/tmp/ipykernel_879/53272068.py:1: DtypeWarning: Columns (7,8) have mixed types. Specify dtype option on import or set low_memory=False.\n",
            "  flights = pd.read_csv(\"/mnt/c/Users/lokes/Downloads/flights.csv\")\n"
          ]
        },
        {
          "data": {
            "text/html": [
              "<div>\n",
              "<style scoped>\n",
              "    .dataframe tbody tr th:only-of-type {\n",
              "        vertical-align: middle;\n",
              "    }\n",
              "\n",
              "    .dataframe tbody tr th {\n",
              "        vertical-align: top;\n",
              "    }\n",
              "\n",
              "    .dataframe thead th {\n",
              "        text-align: right;\n",
              "    }\n",
              "</style>\n",
              "<table border=\"1\" class=\"dataframe\">\n",
              "  <thead>\n",
              "    <tr style=\"text-align: right;\">\n",
              "      <th></th>\n",
              "      <th>YEAR</th>\n",
              "      <th>MONTH</th>\n",
              "      <th>DAY</th>\n",
              "      <th>DAY_OF_WEEK</th>\n",
              "      <th>AIRLINE</th>\n",
              "      <th>FLIGHT_NUMBER</th>\n",
              "      <th>TAIL_NUMBER</th>\n",
              "      <th>ORIGIN_AIRPORT</th>\n",
              "      <th>DESTINATION_AIRPORT</th>\n",
              "      <th>SCHEDULED_DEPARTURE</th>\n",
              "      <th>...</th>\n",
              "      <th>ARRIVAL_TIME</th>\n",
              "      <th>ARRIVAL_DELAY</th>\n",
              "      <th>DIVERTED</th>\n",
              "      <th>CANCELLED</th>\n",
              "      <th>CANCELLATION_REASON</th>\n",
              "      <th>AIR_SYSTEM_DELAY</th>\n",
              "      <th>SECURITY_DELAY</th>\n",
              "      <th>AIRLINE_DELAY</th>\n",
              "      <th>LATE_AIRCRAFT_DELAY</th>\n",
              "      <th>WEATHER_DELAY</th>\n",
              "    </tr>\n",
              "  </thead>\n",
              "  <tbody>\n",
              "    <tr>\n",
              "      <th>0</th>\n",
              "      <td>2015</td>\n",
              "      <td>1</td>\n",
              "      <td>1</td>\n",
              "      <td>4</td>\n",
              "      <td>AS</td>\n",
              "      <td>98</td>\n",
              "      <td>N407AS</td>\n",
              "      <td>ANC</td>\n",
              "      <td>SEA</td>\n",
              "      <td>5</td>\n",
              "      <td>...</td>\n",
              "      <td>408.0</td>\n",
              "      <td>-22.0</td>\n",
              "      <td>0</td>\n",
              "      <td>0</td>\n",
              "      <td>NaN</td>\n",
              "      <td>NaN</td>\n",
              "      <td>NaN</td>\n",
              "      <td>NaN</td>\n",
              "      <td>NaN</td>\n",
              "      <td>NaN</td>\n",
              "    </tr>\n",
              "    <tr>\n",
              "      <th>1</th>\n",
              "      <td>2015</td>\n",
              "      <td>1</td>\n",
              "      <td>1</td>\n",
              "      <td>4</td>\n",
              "      <td>AA</td>\n",
              "      <td>2336</td>\n",
              "      <td>N3KUAA</td>\n",
              "      <td>LAX</td>\n",
              "      <td>PBI</td>\n",
              "      <td>10</td>\n",
              "      <td>...</td>\n",
              "      <td>741.0</td>\n",
              "      <td>-9.0</td>\n",
              "      <td>0</td>\n",
              "      <td>0</td>\n",
              "      <td>NaN</td>\n",
              "      <td>NaN</td>\n",
              "      <td>NaN</td>\n",
              "      <td>NaN</td>\n",
              "      <td>NaN</td>\n",
              "      <td>NaN</td>\n",
              "    </tr>\n",
              "    <tr>\n",
              "      <th>2</th>\n",
              "      <td>2015</td>\n",
              "      <td>1</td>\n",
              "      <td>1</td>\n",
              "      <td>4</td>\n",
              "      <td>US</td>\n",
              "      <td>840</td>\n",
              "      <td>N171US</td>\n",
              "      <td>SFO</td>\n",
              "      <td>CLT</td>\n",
              "      <td>20</td>\n",
              "      <td>...</td>\n",
              "      <td>811.0</td>\n",
              "      <td>5.0</td>\n",
              "      <td>0</td>\n",
              "      <td>0</td>\n",
              "      <td>NaN</td>\n",
              "      <td>NaN</td>\n",
              "      <td>NaN</td>\n",
              "      <td>NaN</td>\n",
              "      <td>NaN</td>\n",
              "      <td>NaN</td>\n",
              "    </tr>\n",
              "    <tr>\n",
              "      <th>3</th>\n",
              "      <td>2015</td>\n",
              "      <td>1</td>\n",
              "      <td>1</td>\n",
              "      <td>4</td>\n",
              "      <td>AA</td>\n",
              "      <td>258</td>\n",
              "      <td>N3HYAA</td>\n",
              "      <td>LAX</td>\n",
              "      <td>MIA</td>\n",
              "      <td>20</td>\n",
              "      <td>...</td>\n",
              "      <td>756.0</td>\n",
              "      <td>-9.0</td>\n",
              "      <td>0</td>\n",
              "      <td>0</td>\n",
              "      <td>NaN</td>\n",
              "      <td>NaN</td>\n",
              "      <td>NaN</td>\n",
              "      <td>NaN</td>\n",
              "      <td>NaN</td>\n",
              "      <td>NaN</td>\n",
              "    </tr>\n",
              "    <tr>\n",
              "      <th>4</th>\n",
              "      <td>2015</td>\n",
              "      <td>1</td>\n",
              "      <td>1</td>\n",
              "      <td>4</td>\n",
              "      <td>AS</td>\n",
              "      <td>135</td>\n",
              "      <td>N527AS</td>\n",
              "      <td>SEA</td>\n",
              "      <td>ANC</td>\n",
              "      <td>25</td>\n",
              "      <td>...</td>\n",
              "      <td>259.0</td>\n",
              "      <td>-21.0</td>\n",
              "      <td>0</td>\n",
              "      <td>0</td>\n",
              "      <td>NaN</td>\n",
              "      <td>NaN</td>\n",
              "      <td>NaN</td>\n",
              "      <td>NaN</td>\n",
              "      <td>NaN</td>\n",
              "      <td>NaN</td>\n",
              "    </tr>\n",
              "    <tr>\n",
              "      <th>...</th>\n",
              "      <td>...</td>\n",
              "      <td>...</td>\n",
              "      <td>...</td>\n",
              "      <td>...</td>\n",
              "      <td>...</td>\n",
              "      <td>...</td>\n",
              "      <td>...</td>\n",
              "      <td>...</td>\n",
              "      <td>...</td>\n",
              "      <td>...</td>\n",
              "      <td>...</td>\n",
              "      <td>...</td>\n",
              "      <td>...</td>\n",
              "      <td>...</td>\n",
              "      <td>...</td>\n",
              "      <td>...</td>\n",
              "      <td>...</td>\n",
              "      <td>...</td>\n",
              "      <td>...</td>\n",
              "      <td>...</td>\n",
              "      <td>...</td>\n",
              "    </tr>\n",
              "    <tr>\n",
              "      <th>49995</th>\n",
              "      <td>2015</td>\n",
              "      <td>1</td>\n",
              "      <td>4</td>\n",
              "      <td>7</td>\n",
              "      <td>AA</td>\n",
              "      <td>1524</td>\n",
              "      <td>N499AA</td>\n",
              "      <td>DFW</td>\n",
              "      <td>LAS</td>\n",
              "      <td>915</td>\n",
              "      <td>...</td>\n",
              "      <td>1010.0</td>\n",
              "      <td>0.0</td>\n",
              "      <td>0</td>\n",
              "      <td>0</td>\n",
              "      <td>NaN</td>\n",
              "      <td>NaN</td>\n",
              "      <td>NaN</td>\n",
              "      <td>NaN</td>\n",
              "      <td>NaN</td>\n",
              "      <td>NaN</td>\n",
              "    </tr>\n",
              "    <tr>\n",
              "      <th>49996</th>\n",
              "      <td>2015</td>\n",
              "      <td>1</td>\n",
              "      <td>4</td>\n",
              "      <td>7</td>\n",
              "      <td>AA</td>\n",
              "      <td>2316</td>\n",
              "      <td>N3FNAA</td>\n",
              "      <td>STX</td>\n",
              "      <td>MIA</td>\n",
              "      <td>915</td>\n",
              "      <td>...</td>\n",
              "      <td>1126.0</td>\n",
              "      <td>4.0</td>\n",
              "      <td>0</td>\n",
              "      <td>0</td>\n",
              "      <td>NaN</td>\n",
              "      <td>NaN</td>\n",
              "      <td>NaN</td>\n",
              "      <td>NaN</td>\n",
              "      <td>NaN</td>\n",
              "      <td>NaN</td>\n",
              "    </tr>\n",
              "    <tr>\n",
              "      <th>49997</th>\n",
              "      <td>2015</td>\n",
              "      <td>1</td>\n",
              "      <td>4</td>\n",
              "      <td>7</td>\n",
              "      <td>AS</td>\n",
              "      <td>5</td>\n",
              "      <td>N566AS</td>\n",
              "      <td>DCA</td>\n",
              "      <td>LAX</td>\n",
              "      <td>915</td>\n",
              "      <td>...</td>\n",
              "      <td>1247.0</td>\n",
              "      <td>37.0</td>\n",
              "      <td>0</td>\n",
              "      <td>0</td>\n",
              "      <td>NaN</td>\n",
              "      <td>37.0</td>\n",
              "      <td>0.0</td>\n",
              "      <td>0.0</td>\n",
              "      <td>0.0</td>\n",
              "      <td>0.0</td>\n",
              "    </tr>\n",
              "    <tr>\n",
              "      <th>49998</th>\n",
              "      <td>2015</td>\n",
              "      <td>1</td>\n",
              "      <td>4</td>\n",
              "      <td>7</td>\n",
              "      <td>DL</td>\n",
              "      <td>688</td>\n",
              "      <td>N893AT</td>\n",
              "      <td>ATL</td>\n",
              "      <td>ICT</td>\n",
              "      <td>915</td>\n",
              "      <td>...</td>\n",
              "      <td>1037.0</td>\n",
              "      <td>-3.0</td>\n",
              "      <td>0</td>\n",
              "      <td>0</td>\n",
              "      <td>NaN</td>\n",
              "      <td>NaN</td>\n",
              "      <td>NaN</td>\n",
              "      <td>NaN</td>\n",
              "      <td>NaN</td>\n",
              "      <td>NaN</td>\n",
              "    </tr>\n",
              "    <tr>\n",
              "      <th>49999</th>\n",
              "      <td>2015</td>\n",
              "      <td>1</td>\n",
              "      <td>4</td>\n",
              "      <td>7</td>\n",
              "      <td>DL</td>\n",
              "      <td>972</td>\n",
              "      <td>N130DL</td>\n",
              "      <td>MSP</td>\n",
              "      <td>LAX</td>\n",
              "      <td>915</td>\n",
              "      <td>...</td>\n",
              "      <td>1135.0</td>\n",
              "      <td>10.0</td>\n",
              "      <td>0</td>\n",
              "      <td>0</td>\n",
              "      <td>NaN</td>\n",
              "      <td>NaN</td>\n",
              "      <td>NaN</td>\n",
              "      <td>NaN</td>\n",
              "      <td>NaN</td>\n",
              "      <td>NaN</td>\n",
              "    </tr>\n",
              "  </tbody>\n",
              "</table>\n",
              "<p>50000 rows × 31 columns</p>\n",
              "</div>"
            ],
            "text/plain": [
              "       YEAR  MONTH  DAY  DAY_OF_WEEK AIRLINE  FLIGHT_NUMBER TAIL_NUMBER  \\\n",
              "0      2015      1    1            4      AS             98      N407AS   \n",
              "1      2015      1    1            4      AA           2336      N3KUAA   \n",
              "2      2015      1    1            4      US            840      N171US   \n",
              "3      2015      1    1            4      AA            258      N3HYAA   \n",
              "4      2015      1    1            4      AS            135      N527AS   \n",
              "...     ...    ...  ...          ...     ...            ...         ...   \n",
              "49995  2015      1    4            7      AA           1524      N499AA   \n",
              "49996  2015      1    4            7      AA           2316      N3FNAA   \n",
              "49997  2015      1    4            7      AS              5      N566AS   \n",
              "49998  2015      1    4            7      DL            688      N893AT   \n",
              "49999  2015      1    4            7      DL            972      N130DL   \n",
              "\n",
              "      ORIGIN_AIRPORT DESTINATION_AIRPORT  SCHEDULED_DEPARTURE  ...  \\\n",
              "0                ANC                 SEA                    5  ...   \n",
              "1                LAX                 PBI                   10  ...   \n",
              "2                SFO                 CLT                   20  ...   \n",
              "3                LAX                 MIA                   20  ...   \n",
              "4                SEA                 ANC                   25  ...   \n",
              "...              ...                 ...                  ...  ...   \n",
              "49995            DFW                 LAS                  915  ...   \n",
              "49996            STX                 MIA                  915  ...   \n",
              "49997            DCA                 LAX                  915  ...   \n",
              "49998            ATL                 ICT                  915  ...   \n",
              "49999            MSP                 LAX                  915  ...   \n",
              "\n",
              "       ARRIVAL_TIME  ARRIVAL_DELAY  DIVERTED  CANCELLED  CANCELLATION_REASON  \\\n",
              "0             408.0          -22.0         0          0                  NaN   \n",
              "1             741.0           -9.0         0          0                  NaN   \n",
              "2             811.0            5.0         0          0                  NaN   \n",
              "3             756.0           -9.0         0          0                  NaN   \n",
              "4             259.0          -21.0         0          0                  NaN   \n",
              "...             ...            ...       ...        ...                  ...   \n",
              "49995        1010.0            0.0         0          0                  NaN   \n",
              "49996        1126.0            4.0         0          0                  NaN   \n",
              "49997        1247.0           37.0         0          0                  NaN   \n",
              "49998        1037.0           -3.0         0          0                  NaN   \n",
              "49999        1135.0           10.0         0          0                  NaN   \n",
              "\n",
              "       AIR_SYSTEM_DELAY  SECURITY_DELAY  AIRLINE_DELAY  LATE_AIRCRAFT_DELAY  \\\n",
              "0                   NaN             NaN            NaN                  NaN   \n",
              "1                   NaN             NaN            NaN                  NaN   \n",
              "2                   NaN             NaN            NaN                  NaN   \n",
              "3                   NaN             NaN            NaN                  NaN   \n",
              "4                   NaN             NaN            NaN                  NaN   \n",
              "...                 ...             ...            ...                  ...   \n",
              "49995               NaN             NaN            NaN                  NaN   \n",
              "49996               NaN             NaN            NaN                  NaN   \n",
              "49997              37.0             0.0            0.0                  0.0   \n",
              "49998               NaN             NaN            NaN                  NaN   \n",
              "49999               NaN             NaN            NaN                  NaN   \n",
              "\n",
              "       WEATHER_DELAY  \n",
              "0                NaN  \n",
              "1                NaN  \n",
              "2                NaN  \n",
              "3                NaN  \n",
              "4                NaN  \n",
              "...              ...  \n",
              "49995            NaN  \n",
              "49996            NaN  \n",
              "49997            0.0  \n",
              "49998            NaN  \n",
              "49999            NaN  \n",
              "\n",
              "[50000 rows x 31 columns]"
            ]
          },
          "execution_count": 4,
          "metadata": {},
          "output_type": "execute_result"
        }
      ],
      "source": [
        "flights = pd.read_csv(\"/mnt/c/Users/lokes/Downloads/flights.csv\")\n",
        "flights_data = flights[0:50000]\n",
        "flights_data"
      ]
    },
    {
      "cell_type": "code",
      "execution_count": 5,
      "id": "2202748f",
      "metadata": {
        "colab": {
          "base_uri": "https://localhost:8080/"
        },
        "id": "2202748f",
        "outputId": "0e580c9d-8aed-41d9-fcd7-4ca5e40e8da0"
      },
      "outputs": [
        {
          "name": "stderr",
          "output_type": "stream",
          "text": [
            "22/05/05 23:59:17 WARN Utils: Your hostname, MSI resolves to a loopback address: 127.0.1.1; using 172.31.182.58 instead (on interface eth0)\n",
            "22/05/05 23:59:17 WARN Utils: Set SPARK_LOCAL_IP if you need to bind to another address\n",
            "WARNING: An illegal reflective access operation has occurred\n",
            "WARNING: Illegal reflective access by org.apache.spark.unsafe.Platform (file:/home/lokesh/.local/lib/python3.8/site-packages/pyspark/jars/spark-unsafe_2.12-3.2.1.jar) to constructor java.nio.DirectByteBuffer(long,int)\n",
            "WARNING: Please consider reporting this to the maintainers of org.apache.spark.unsafe.Platform\n",
            "WARNING: Use --illegal-access=warn to enable warnings of further illegal reflective access operations\n",
            "WARNING: All illegal access operations will be denied in a future release\n",
            "Using Spark's default log4j profile: org/apache/spark/log4j-defaults.properties\n",
            "Setting default log level to \"WARN\".\n",
            "To adjust logging level use sc.setLogLevel(newLevel). For SparkR, use setLogLevel(newLevel).\n",
            "22/05/05 23:59:18 WARN NativeCodeLoader: Unable to load native-hadoop library for your platform... using builtin-java classes where applicable\n"
          ]
        },
        {
          "name": "stdout",
          "output_type": "stream",
          "text": [
            "3.2.1\n"
          ]
        }
      ],
      "source": [
        "from pyspark import SparkContext, SparkConf\n",
        "sc = SparkContext('local')\n",
        "print(sc.version)"
      ]
    },
    {
      "cell_type": "code",
      "execution_count": 6,
      "id": "fd0da3eb",
      "metadata": {
        "colab": {
          "base_uri": "https://localhost:8080/"
        },
        "id": "fd0da3eb",
        "outputId": "0ff6d58a-6412-4111-fd81-d19163fa1f80"
      },
      "outputs": [
        {
          "name": "stdout",
          "output_type": "stream",
          "text": [
            "<pyspark.sql.session.SparkSession object at 0x7f8808767af0>\n"
          ]
        }
      ],
      "source": [
        "from pyspark.sql import SparkSession\n",
        "spark = SparkSession.builder.getOrCreate()\n",
        "# Print my_spark\n",
        "print(spark)"
      ]
    },
    {
      "cell_type": "code",
      "execution_count": 7,
      "id": "7fec323b",
      "metadata": {
        "colab": {
          "base_uri": "https://localhost:8080/"
        },
        "id": "7fec323b",
        "outputId": "098fac02-27e4-4f28-d211-0921f00ede0b"
      },
      "outputs": [
        {
          "name": "stdout",
          "output_type": "stream",
          "text": [
            "[]\n"
          ]
        }
      ],
      "source": [
        "# Print the tables in the catalog\n",
        "print(spark.catalog.listTables())"
      ]
    },
    {
      "cell_type": "code",
      "execution_count": 8,
      "id": "201dc356",
      "metadata": {
        "colab": {
          "base_uri": "https://localhost:8080/"
        },
        "id": "201dc356",
        "outputId": "51ce5490-06ad-481c-d510-a220d4c47bf3"
      },
      "outputs": [
        {
          "name": "stdout",
          "output_type": "stream",
          "text": [
            "[]\n",
            "[Table(name='temp', database=None, description=None, tableType='TEMPORARY', isTemporary=True)]\n"
          ]
        }
      ],
      "source": [
        "# Create pd_temp\n",
        "pd_temp = pd.DataFrame(np.random.random(10))\n",
        "\n",
        "# Create spark_temp from pd_temp\n",
        "spark_temp = spark.createDataFrame(pd_temp)\n",
        "\n",
        "# Examine the tables in the catalog\n",
        "print(spark.catalog.listTables())\n",
        "\n",
        "# Add spark_temp to the catalog\n",
        "spark_temp.createOrReplaceTempView('temp')\n",
        "\n",
        "# Examine the tables in the catalog again\n",
        "print(spark.catalog.listTables())"
      ]
    },
    {
      "cell_type": "code",
      "execution_count": 9,
      "id": "59f9f14d",
      "metadata": {
        "colab": {
          "base_uri": "https://localhost:8080/"
        },
        "id": "59f9f14d",
        "outputId": "b8d3b606-7bde-42d9-9402-2f7417b5d368"
      },
      "outputs": [
        {
          "name": "stdout",
          "output_type": "stream",
          "text": [
            "+---------+--------------------+-------------+-----+-------+--------+----------+\n",
            "|IATA_CODE|             AIRPORT|         CITY|STATE|COUNTRY|LATITUDE| LONGITUDE|\n",
            "+---------+--------------------+-------------+-----+-------+--------+----------+\n",
            "|      ABE|Lehigh Valley Int...|    Allentown|   PA|    USA|40.65236| -75.44040|\n",
            "|      ABI|Abilene Regional ...|      Abilene|   TX|    USA|32.41132| -99.68190|\n",
            "|      ABQ|Albuquerque Inter...|  Albuquerque|   NM|    USA|35.04022|-106.60919|\n",
            "|      ABR|Aberdeen Regional...|     Aberdeen|   SD|    USA|45.44906| -98.42183|\n",
            "|      ABY|Southwest Georgia...|       Albany|   GA|    USA|31.53552| -84.19447|\n",
            "|      ACK|Nantucket Memoria...|    Nantucket|   MA|    USA|41.25305| -70.06018|\n",
            "|      ACT|Waco Regional Air...|         Waco|   TX|    USA|31.61129| -97.23052|\n",
            "|      ACV|      Arcata Airport|Arcata/Eureka|   CA|    USA|40.97812|-124.10862|\n",
            "|      ACY|Atlantic City Int...|Atlantic City|   NJ|    USA|39.45758| -74.57717|\n",
            "|      ADK|        Adak Airport|         Adak|   AK|    USA|51.87796|-176.64603|\n",
            "+---------+--------------------+-------------+-----+-------+--------+----------+\n",
            "only showing top 10 rows\n",
            "\n"
          ]
        }
      ],
      "source": [
        "# Read in the airports data\n",
        "airports = spark.read.csv(['/mnt/c/Users/lokes/Downloads/airports.csv'], header = True)\n",
        "\n",
        "# Show the data\n",
        "airports.show(10)"
      ]
    },
    {
      "cell_type": "code",
      "execution_count": 10,
      "id": "1e0457b1",
      "metadata": {
        "colab": {
          "base_uri": "https://localhost:8080/"
        },
        "id": "1e0457b1",
        "outputId": "d67f6c56-62ca-4592-bafa-5f148ac402c6"
      },
      "outputs": [
        {
          "name": "stderr",
          "output_type": "stream",
          "text": [
            "22/05/05 23:59:27 WARN package: Truncated the string representation of a plan since it was too large. This behavior can be adjusted by setting 'spark.sql.debug.maxToStringFields'.\n",
            "                                                                                \r"
          ]
        },
        {
          "name": "stdout",
          "output_type": "stream",
          "text": [
            "[Table(name='temp', database=None, description=None, tableType='TEMPORARY', isTemporary=True)]\n",
            "[Table(name='flights', database=None, description=None, tableType='TEMPORARY', isTemporary=True), Table(name='temp', database=None, description=None, tableType='TEMPORARY', isTemporary=True)]\n"
          ]
        }
      ],
      "source": [
        "flight_data = spark.read.csv(['/mnt/c/Users/lokes/Downloads/flights.csv'], header = True)\n",
        "flight_data = flight_data.take(100000)\n",
        "#flight_data = flight_data.take(50000)\n",
        "\n",
        "flights=spark.createDataFrame(flight_data)\n",
        "\n",
        "# print the tables in catalog\n",
        "print(spark.catalog.listTables())\n",
        "\n",
        "# adding data into spark view for sql querying\n",
        "flights.createOrReplaceTempView('flights')\n",
        "\n",
        "# print the tables in catalog\n",
        "print(spark.catalog.listTables())"
      ]
    },
    {
      "cell_type": "code",
      "execution_count": 11,
      "id": "VYXusulGPyHM",
      "metadata": {
        "id": "VYXusulGPyHM"
      },
      "outputs": [],
      "source": [
        "#flights.show()"
      ]
    },
    {
      "cell_type": "code",
      "execution_count": 12,
      "id": "MPoBQmH1QNEL",
      "metadata": {
        "colab": {
          "base_uri": "https://localhost:8080/"
        },
        "id": "MPoBQmH1QNEL",
        "outputId": "ee2ab2b2-130d-4e40-fd18-538a87b7e0d1"
      },
      "outputs": [
        {
          "name": "stderr",
          "output_type": "stream",
          "text": [
            "22/05/05 23:59:40 WARN TaskSetManager: Stage 7 contains a task of very large size (13957 KiB). The maximum recommended task size is 1000 KiB.\n",
            "[Stage 7:>                                                          (0 + 1) / 1]\r"
          ]
        },
        {
          "name": "stdout",
          "output_type": "stream",
          "text": [
            "(100000, 31)\n"
          ]
        },
        {
          "name": "stderr",
          "output_type": "stream",
          "text": [
            "                                                                                \r"
          ]
        }
      ],
      "source": [
        "# Show the data shape\n",
        "print((flights.count(), len(flights.columns)))"
      ]
    },
    {
      "cell_type": "code",
      "execution_count": 13,
      "id": "b662197a",
      "metadata": {
        "colab": {
          "base_uri": "https://localhost:8080/"
        },
        "id": "b662197a",
        "outputId": "e110d26a-3670-450f-95f7-d8804ccc01db"
      },
      "outputs": [
        {
          "name": "stdout",
          "output_type": "stream",
          "text": [
            "['YEAR', 'MONTH', 'DAY', 'DAY_OF_WEEK', 'AIRLINE', 'FLIGHT_NUMBER', 'TAIL_NUMBER', 'ORIGIN_AIRPORT', 'DESTINATION_AIRPORT', 'SCHEDULED_DEPARTURE', 'DEPARTURE_TIME', 'DEPARTURE_DELAY', 'TAXI_OUT', 'WHEELS_OFF', 'SCHEDULED_TIME', 'ELAPSED_TIME', 'AIR_TIME', 'DISTANCE', 'WHEELS_ON', 'TAXI_IN', 'SCHEDULED_ARRIVAL', 'ARRIVAL_TIME', 'ARRIVAL_DELAY', 'DIVERTED', 'CANCELLED', 'CANCELLATION_REASON', 'AIR_SYSTEM_DELAY', 'SECURITY_DELAY', 'AIRLINE_DELAY', 'LATE_AIRCRAFT_DELAY', 'WEATHER_DELAY']\n"
          ]
        }
      ],
      "source": [
        "# see all columns in the table \n",
        "print(flights.columns)"
      ]
    },
    {
      "cell_type": "code",
      "execution_count": 14,
      "id": "183ad0e0",
      "metadata": {
        "id": "183ad0e0"
      },
      "outputs": [],
      "source": [
        "query = \"SELECT AIRLINE, FLIGHT_NUMBER, TAIL_NUMBER, ORIGIN_AIRPORT, DESTINATION_AIRPORT, SCHEDULED_DEPARTURE FROM flights LIMIT 5\"\n",
        "\n",
        "flights5 = spark.sql(query)\n",
        "#flights5.show()"
      ]
    },
    {
      "cell_type": "code",
      "execution_count": 15,
      "id": "08997fe0",
      "metadata": {
        "id": "08997fe0"
      },
      "outputs": [
        {
          "name": "stderr",
          "output_type": "stream",
          "text": [
            "22/05/05 23:59:42 WARN TaskSetManager: Stage 10 contains a task of very large size (13957 KiB). The maximum recommended task size is 1000 KiB.\n",
            "[Stage 10:>                                                         (0 + 1) / 1]\r"
          ]
        },
        {
          "name": "stdout",
          "output_type": "stream",
          "text": [
            "  ORIGIN_AIRPORT DESTINATION_AIRPORT   N\n",
            "0            BQN                 MCO  14\n",
            "1            PHL                 MCO  90\n",
            "2            MCI                 IAH  33\n",
            "3            SPI                 ORD  19\n",
            "4            SNA                 PHX  72\n"
          ]
        },
        {
          "name": "stderr",
          "output_type": "stream",
          "text": [
            "                                                                                \r"
          ]
        }
      ],
      "source": [
        "query = \"SELECT ORIGIN_AIRPORT, DESTINATION_AIRPORT, COUNT(*) as N FROM flights GROUP BY ORIGIN_AIRPORT, DESTINATION_AIRPORT\"\n",
        "\n",
        "\n",
        "flight_counts = spark.sql(query)\n",
        "pd_counts = flight_counts.toPandas()\n",
        "\n",
        "print(pd_counts.head())"
      ]
    },
    {
      "cell_type": "code",
      "execution_count": 16,
      "id": "1538f949",
      "metadata": {
        "id": "1538f949"
      },
      "outputs": [
        {
          "name": "stdout",
          "output_type": "stream",
          "text": [
            "+------------------+\n",
            "|      duration_hrs|\n",
            "+------------------+\n",
            "| 2.816666666666667|\n",
            "| 4.383333333333334|\n",
            "| 4.433333333333334|\n",
            "|               4.3|\n",
            "| 3.316666666666667|\n",
            "| 3.433333333333333|\n",
            "| 2.566666666666667|\n",
            "|               3.8|\n",
            "|2.8833333333333333|\n",
            "|               3.1|\n",
            "+------------------+\n",
            "only showing top 10 rows\n",
            "\n"
          ]
        },
        {
          "name": "stderr",
          "output_type": "stream",
          "text": [
            "22/05/05 23:59:43 WARN TaskSetManager: Stage 13 contains a task of very large size (13957 KiB). The maximum recommended task size is 1000 KiB.\n"
          ]
        }
      ],
      "source": [
        "# Create the DataFrame flights\n",
        "flights = spark.table(\"flights\")\n",
        "\n",
        "# Add duration_hrs\n",
        "flights = flights.withColumn('duration_hrs', flights.AIR_TIME/60.)\n",
        "\n",
        "# Show the head\n",
        "flights.select('duration_hrs').show(10)"
      ]
    },
    {
      "cell_type": "code",
      "execution_count": 17,
      "id": "ccb8e1f3",
      "metadata": {
        "id": "ccb8e1f3"
      },
      "outputs": [],
      "source": [
        "# Filter flights by passing a string\n",
        "long_flights1 = flights.filter(\"DISTANCE > 1000\")\n",
        "\n",
        "# Filter flights by passing a column of boolean values\n",
        "long_flights2 = flights.filter(flights.DISTANCE > 1000)\n"
      ]
    },
    {
      "cell_type": "code",
      "execution_count": 19,
      "id": "7118c88f",
      "metadata": {
        "id": "7118c88f"
      },
      "outputs": [
        {
          "name": "stderr",
          "output_type": "stream",
          "text": [
            "[Stage 14:>                                                         (0 + 1) / 1]\r"
          ]
        }
      ],
      "source": [
        "# Select the first set of columns\n",
        "selected1 = flights.select('TAIL_NUMBER', 'ORIGIN_AIRPORT', 'DESTINATION_AIRPORT',)\n",
        "\n",
        "# Select the second set of columns\n",
        "temp = flights.select(flights.ORIGIN_AIRPORT, flights.DESTINATION_AIRPORT, flights.AIRLINE)"
      ]
    },
    {
      "cell_type": "code",
      "execution_count": 20,
      "id": "e348023f",
      "metadata": {
        "id": "e348023f"
      },
      "outputs": [],
      "source": [
        "# Define first filter\n",
        "filterA = flights.ORIGIN_AIRPORT == \"SEA\"\n",
        "\n",
        "# Define second filter\n",
        "filterB = flights.DESTINATION_AIRPORT == \"PDX\"\n",
        "\n",
        "# Filter the data, first by filterA then by filterB\n",
        "selected2 = temp.filter(filterA).filter(filterB)"
      ]
    },
    {
      "cell_type": "code",
      "execution_count": 21,
      "id": "58cbbcc1",
      "metadata": {
        "id": "58cbbcc1"
      },
      "outputs": [],
      "source": [
        "# Define avg_speed\n",
        "avg_speed = (flights.DISTANCE/(flights.AIR_TIME/60)).alias(\"avg_speed\")\n",
        "\n",
        "# Select the correct columns\n",
        "speed1 = flights.select('TAIL_NUMBER', 'ORIGIN_AIRPORT', 'DESTINATION_AIRPORT', avg_speed)\n",
        "\n",
        "# Create the same table using a SQL expression\n",
        "speed2 = flights.selectExpr('TAIL_NUMBER', 'ORIGIN_AIRPORT', 'DESTINATION_AIRPORT', \"DISTANCE/(AIR_TIME/60) as avg_speed\")"
      ]
    },
    {
      "cell_type": "code",
      "execution_count": 22,
      "id": "cd460663",
      "metadata": {
        "id": "cd460663"
      },
      "outputs": [],
      "source": [
        "#Cast the columns to integers\n",
        "flights = flights.withColumn(\"MONTH\", flights.MONTH.cast(\"integer\"))\n",
        "flights = flights.withColumn(\"DAY_OF_WEEK\", flights.DAY_OF_WEEK.cast(\"integer\"))\n",
        "flights = flights.withColumn(\"AIR_TIME\", flights.AIR_TIME.cast(\"integer\"))\n",
        "flights = flights.withColumn(\"DISTANCE\", flights.DISTANCE.cast(\"double\"))\n",
        "flights = flights.withColumn(\"ARRIVAL_DELAY\", flights.ARRIVAL_DELAY.cast(\"integer\"))"
      ]
    },
    {
      "cell_type": "code",
      "execution_count": 25,
      "id": "5af550cb",
      "metadata": {
        "id": "5af550cb"
      },
      "outputs": [
        {
          "data": {
            "text/plain": [
              "DataFrame[max(AIR_TIME): int]"
            ]
          },
          "execution_count": 25,
          "metadata": {},
          "output_type": "execute_result"
        }
      ],
      "source": [
        "# Find the shortest flight from PDX in terms of distance\n",
        "flights.filter(flights.ORIGIN_AIRPORT == 'PDX').groupBy().min('DISTANCE')\n",
        "\n",
        "# Find the longest flight from SEA in terms of air time\n",
        "flights.filter(flights.ORIGIN_AIRPORT == 'SEA').groupBy().max('AIR_TIME')"
      ]
    },
    {
      "cell_type": "code",
      "execution_count": 27,
      "id": "e95deb1a",
      "metadata": {
        "id": "e95deb1a"
      },
      "outputs": [
        {
          "name": "stderr",
          "output_type": "stream",
          "text": [
            "ERROR:root:KeyboardInterrupt while sending command.][Stage 16:>   (0 + 0) / 1]\n",
            "Traceback (most recent call last):\n",
            "  File \"/home/lokesh/.local/lib/python3.8/site-packages/py4j/java_gateway.py\", line 1038, in send_command\n",
            "    response = connection.send_command(command)\n",
            "  File \"/home/lokesh/.local/lib/python3.8/site-packages/py4j/clientserver.py\", line 475, in send_command\n",
            "    answer = smart_decode(self.stream.readline()[:-1])\n",
            "  File \"/usr/lib/python3.8/socket.py\", line 669, in readinto\n",
            "    return self._sock.recv_into(b)\n",
            "KeyboardInterrupt\n"
          ]
        },
        {
          "ename": "KeyboardInterrupt",
          "evalue": "",
          "output_type": "error",
          "traceback": [
            "\u001b[0;31m---------------------------------------------------------------------------\u001b[0m",
            "\u001b[0;31mKeyboardInterrupt\u001b[0m                         Traceback (most recent call last)",
            "\u001b[1;32m/mnt/c/Users/lokes/OneDrive/Desktop/Code/bdfprojpyspark_(1).ipynb Cell 23'\u001b[0m in \u001b[0;36m<module>\u001b[0;34m\u001b[0m\n\u001b[1;32m      <a href='vscode-notebook-cell://wsl%2Bubuntu-20.04/mnt/c/Users/lokes/OneDrive/Desktop/Code/bdfprojpyspark_%281%29.ipynb#ch0000023vscode-remote?line=1'>2</a>\u001b[0m by_plane \u001b[39m=\u001b[39m flights\u001b[39m.\u001b[39mgroupBy(\u001b[39m\"\u001b[39m\u001b[39mTAIL_NUMBER\u001b[39m\u001b[39m\"\u001b[39m)\n\u001b[1;32m      <a href='vscode-notebook-cell://wsl%2Bubuntu-20.04/mnt/c/Users/lokes/OneDrive/Desktop/Code/bdfprojpyspark_%281%29.ipynb#ch0000023vscode-remote?line=3'>4</a>\u001b[0m \u001b[39m# Number of flights each plane made\u001b[39;00m\n\u001b[0;32m----> <a href='vscode-notebook-cell://wsl%2Bubuntu-20.04/mnt/c/Users/lokes/OneDrive/Desktop/Code/bdfprojpyspark_%281%29.ipynb#ch0000023vscode-remote?line=4'>5</a>\u001b[0m by_plane\u001b[39m.\u001b[39;49mcount()\u001b[39m.\u001b[39;49mshow(\u001b[39m10\u001b[39;49m)\n\u001b[1;32m      <a href='vscode-notebook-cell://wsl%2Bubuntu-20.04/mnt/c/Users/lokes/OneDrive/Desktop/Code/bdfprojpyspark_%281%29.ipynb#ch0000023vscode-remote?line=6'>7</a>\u001b[0m \u001b[39m# Group by origin\u001b[39;00m\n\u001b[1;32m      <a href='vscode-notebook-cell://wsl%2Bubuntu-20.04/mnt/c/Users/lokes/OneDrive/Desktop/Code/bdfprojpyspark_%281%29.ipynb#ch0000023vscode-remote?line=7'>8</a>\u001b[0m by_origin \u001b[39m=\u001b[39m flights\u001b[39m.\u001b[39mgroupBy(\u001b[39m\"\u001b[39m\u001b[39mORIGIN_AIRPORT\u001b[39m\u001b[39m\"\u001b[39m)\n",
            "File \u001b[0;32m~/.local/lib/python3.8/site-packages/pyspark/sql/dataframe.py:494\u001b[0m, in \u001b[0;36mDataFrame.show\u001b[0;34m(self, n, truncate, vertical)\u001b[0m\n\u001b[1;32m    <a href='file:///home/lokesh/.local/lib/python3.8/site-packages/pyspark/sql/dataframe.py?line=490'>491</a>\u001b[0m     \u001b[39mraise\u001b[39;00m \u001b[39mTypeError\u001b[39;00m(\u001b[39m\"\u001b[39m\u001b[39mParameter \u001b[39m\u001b[39m'\u001b[39m\u001b[39mvertical\u001b[39m\u001b[39m'\u001b[39m\u001b[39m must be a bool\u001b[39m\u001b[39m\"\u001b[39m)\n\u001b[1;32m    <a href='file:///home/lokesh/.local/lib/python3.8/site-packages/pyspark/sql/dataframe.py?line=492'>493</a>\u001b[0m \u001b[39mif\u001b[39;00m \u001b[39misinstance\u001b[39m(truncate, \u001b[39mbool\u001b[39m) \u001b[39mand\u001b[39;00m truncate:\n\u001b[0;32m--> <a href='file:///home/lokesh/.local/lib/python3.8/site-packages/pyspark/sql/dataframe.py?line=493'>494</a>\u001b[0m     \u001b[39mprint\u001b[39m(\u001b[39mself\u001b[39;49m\u001b[39m.\u001b[39;49m_jdf\u001b[39m.\u001b[39;49mshowString(n, \u001b[39m20\u001b[39;49m, vertical))\n\u001b[1;32m    <a href='file:///home/lokesh/.local/lib/python3.8/site-packages/pyspark/sql/dataframe.py?line=494'>495</a>\u001b[0m \u001b[39melse\u001b[39;00m:\n\u001b[1;32m    <a href='file:///home/lokesh/.local/lib/python3.8/site-packages/pyspark/sql/dataframe.py?line=495'>496</a>\u001b[0m     \u001b[39mtry\u001b[39;00m:\n",
            "File \u001b[0;32m~/.local/lib/python3.8/site-packages/py4j/java_gateway.py:1320\u001b[0m, in \u001b[0;36mJavaMember.__call__\u001b[0;34m(self, *args)\u001b[0m\n\u001b[1;32m   <a href='file:///home/lokesh/.local/lib/python3.8/site-packages/py4j/java_gateway.py?line=1312'>1313</a>\u001b[0m args_command, temp_args \u001b[39m=\u001b[39m \u001b[39mself\u001b[39m\u001b[39m.\u001b[39m_build_args(\u001b[39m*\u001b[39margs)\n\u001b[1;32m   <a href='file:///home/lokesh/.local/lib/python3.8/site-packages/py4j/java_gateway.py?line=1314'>1315</a>\u001b[0m command \u001b[39m=\u001b[39m proto\u001b[39m.\u001b[39mCALL_COMMAND_NAME \u001b[39m+\u001b[39m\\\n\u001b[1;32m   <a href='file:///home/lokesh/.local/lib/python3.8/site-packages/py4j/java_gateway.py?line=1315'>1316</a>\u001b[0m     \u001b[39mself\u001b[39m\u001b[39m.\u001b[39mcommand_header \u001b[39m+\u001b[39m\\\n\u001b[1;32m   <a href='file:///home/lokesh/.local/lib/python3.8/site-packages/py4j/java_gateway.py?line=1316'>1317</a>\u001b[0m     args_command \u001b[39m+\u001b[39m\\\n\u001b[1;32m   <a href='file:///home/lokesh/.local/lib/python3.8/site-packages/py4j/java_gateway.py?line=1317'>1318</a>\u001b[0m     proto\u001b[39m.\u001b[39mEND_COMMAND_PART\n\u001b[0;32m-> <a href='file:///home/lokesh/.local/lib/python3.8/site-packages/py4j/java_gateway.py?line=1319'>1320</a>\u001b[0m answer \u001b[39m=\u001b[39m \u001b[39mself\u001b[39;49m\u001b[39m.\u001b[39;49mgateway_client\u001b[39m.\u001b[39;49msend_command(command)\n\u001b[1;32m   <a href='file:///home/lokesh/.local/lib/python3.8/site-packages/py4j/java_gateway.py?line=1320'>1321</a>\u001b[0m return_value \u001b[39m=\u001b[39m get_return_value(\n\u001b[1;32m   <a href='file:///home/lokesh/.local/lib/python3.8/site-packages/py4j/java_gateway.py?line=1321'>1322</a>\u001b[0m     answer, \u001b[39mself\u001b[39m\u001b[39m.\u001b[39mgateway_client, \u001b[39mself\u001b[39m\u001b[39m.\u001b[39mtarget_id, \u001b[39mself\u001b[39m\u001b[39m.\u001b[39mname)\n\u001b[1;32m   <a href='file:///home/lokesh/.local/lib/python3.8/site-packages/py4j/java_gateway.py?line=1323'>1324</a>\u001b[0m \u001b[39mfor\u001b[39;00m temp_arg \u001b[39min\u001b[39;00m temp_args:\n",
            "File \u001b[0;32m~/.local/lib/python3.8/site-packages/py4j/java_gateway.py:1038\u001b[0m, in \u001b[0;36mGatewayClient.send_command\u001b[0;34m(self, command, retry, binary)\u001b[0m\n\u001b[1;32m   <a href='file:///home/lokesh/.local/lib/python3.8/site-packages/py4j/java_gateway.py?line=1035'>1036</a>\u001b[0m connection \u001b[39m=\u001b[39m \u001b[39mself\u001b[39m\u001b[39m.\u001b[39m_get_connection()\n\u001b[1;32m   <a href='file:///home/lokesh/.local/lib/python3.8/site-packages/py4j/java_gateway.py?line=1036'>1037</a>\u001b[0m \u001b[39mtry\u001b[39;00m:\n\u001b[0;32m-> <a href='file:///home/lokesh/.local/lib/python3.8/site-packages/py4j/java_gateway.py?line=1037'>1038</a>\u001b[0m     response \u001b[39m=\u001b[39m connection\u001b[39m.\u001b[39;49msend_command(command)\n\u001b[1;32m   <a href='file:///home/lokesh/.local/lib/python3.8/site-packages/py4j/java_gateway.py?line=1038'>1039</a>\u001b[0m     \u001b[39mif\u001b[39;00m binary:\n\u001b[1;32m   <a href='file:///home/lokesh/.local/lib/python3.8/site-packages/py4j/java_gateway.py?line=1039'>1040</a>\u001b[0m         \u001b[39mreturn\u001b[39;00m response, \u001b[39mself\u001b[39m\u001b[39m.\u001b[39m_create_connection_guard(connection)\n",
            "File \u001b[0;32m~/.local/lib/python3.8/site-packages/py4j/clientserver.py:475\u001b[0m, in \u001b[0;36mClientServerConnection.send_command\u001b[0;34m(self, command)\u001b[0m\n\u001b[1;32m    <a href='file:///home/lokesh/.local/lib/python3.8/site-packages/py4j/clientserver.py?line=472'>473</a>\u001b[0m \u001b[39mtry\u001b[39;00m:\n\u001b[1;32m    <a href='file:///home/lokesh/.local/lib/python3.8/site-packages/py4j/clientserver.py?line=473'>474</a>\u001b[0m     \u001b[39mwhile\u001b[39;00m \u001b[39mTrue\u001b[39;00m:\n\u001b[0;32m--> <a href='file:///home/lokesh/.local/lib/python3.8/site-packages/py4j/clientserver.py?line=474'>475</a>\u001b[0m         answer \u001b[39m=\u001b[39m smart_decode(\u001b[39mself\u001b[39;49m\u001b[39m.\u001b[39;49mstream\u001b[39m.\u001b[39;49mreadline()[:\u001b[39m-\u001b[39m\u001b[39m1\u001b[39m])\n\u001b[1;32m    <a href='file:///home/lokesh/.local/lib/python3.8/site-packages/py4j/clientserver.py?line=475'>476</a>\u001b[0m         logger\u001b[39m.\u001b[39mdebug(\u001b[39m\"\u001b[39m\u001b[39mAnswer received: \u001b[39m\u001b[39m{0}\u001b[39;00m\u001b[39m\"\u001b[39m\u001b[39m.\u001b[39mformat(answer))\n\u001b[1;32m    <a href='file:///home/lokesh/.local/lib/python3.8/site-packages/py4j/clientserver.py?line=476'>477</a>\u001b[0m         \u001b[39m# Happens when a the other end is dead. There might be an empty\u001b[39;00m\n\u001b[1;32m    <a href='file:///home/lokesh/.local/lib/python3.8/site-packages/py4j/clientserver.py?line=477'>478</a>\u001b[0m         \u001b[39m# answer before the socket raises an error.\u001b[39;00m\n",
            "File \u001b[0;32m/usr/lib/python3.8/socket.py:669\u001b[0m, in \u001b[0;36mSocketIO.readinto\u001b[0;34m(self, b)\u001b[0m\n\u001b[1;32m    <a href='file:///usr/lib/python3.8/socket.py?line=666'>667</a>\u001b[0m \u001b[39mwhile\u001b[39;00m \u001b[39mTrue\u001b[39;00m:\n\u001b[1;32m    <a href='file:///usr/lib/python3.8/socket.py?line=667'>668</a>\u001b[0m     \u001b[39mtry\u001b[39;00m:\n\u001b[0;32m--> <a href='file:///usr/lib/python3.8/socket.py?line=668'>669</a>\u001b[0m         \u001b[39mreturn\u001b[39;00m \u001b[39mself\u001b[39;49m\u001b[39m.\u001b[39;49m_sock\u001b[39m.\u001b[39;49mrecv_into(b)\n\u001b[1;32m    <a href='file:///usr/lib/python3.8/socket.py?line=669'>670</a>\u001b[0m     \u001b[39mexcept\u001b[39;00m timeout:\n\u001b[1;32m    <a href='file:///usr/lib/python3.8/socket.py?line=670'>671</a>\u001b[0m         \u001b[39mself\u001b[39m\u001b[39m.\u001b[39m_timeout_occurred \u001b[39m=\u001b[39m \u001b[39mTrue\u001b[39;00m\n",
            "\u001b[0;31mKeyboardInterrupt\u001b[0m: "
          ]
        }
      ],
      "source": [
        "# Group by tailnum\n",
        "by_plane = flights.groupBy(\"TAIL_NUMBER\")\n",
        "\n",
        "# Number of flights each plane made\n",
        "by_plane.count().show(10)\n",
        "\n",
        "# Group by origin\n",
        "by_origin = flights.groupBy(\"ORIGIN_AIRPORT\")\n",
        "\n",
        "# Average duration of flights from PDX and SEA\n",
        "by_origin.avg(\"AIR_TIME\").show(10)"
      ]
    },
    {
      "cell_type": "code",
      "execution_count": null,
      "id": "58212836",
      "metadata": {
        "id": "58212836"
      },
      "outputs": [],
      "source": [
        "import pyspark.sql.functions as F\n",
        "\n",
        "flights = flights.withColumn(\"DEPARTURE_DELAY\", flights.DEPARTURE_DELAY.cast(\"integer\"))\n",
        "\n",
        "# Group by month and dest\n",
        "by_month_dest = flights.groupBy('MONTH', 'DESTINATION_AIRPORT')\n",
        "\n",
        "# Average departure delay by month and destination\n",
        "by_month_dest.avg('DEPARTURE_DELAY').show(10)\n",
        "\n",
        "# Standard deviation of departure delay\n",
        "by_month_dest.agg(F.stddev('DEPARTURE_DELAY')).show(10)"
      ]
    },
    {
      "cell_type": "code",
      "execution_count": null,
      "id": "06cf40e6",
      "metadata": {
        "id": "06cf40e6"
      },
      "outputs": [],
      "source": [
        "print(airports.columns)\n",
        "\n",
        "# Examine the data\n",
        "print(airports.show(10))"
      ]
    },
    {
      "cell_type": "code",
      "execution_count": null,
      "id": "fab3e9a9",
      "metadata": {
        "id": "fab3e9a9"
      },
      "outputs": [],
      "source": [
        "# Rename the faa column\n",
        "airports = airports.withColumnRenamed(\"IATA_CODE\", \"DESTINATION_AIRPORT\")\n",
        "\n",
        "# Join the DataFrames\n",
        "flights_with_airports = flights.join(airports , on = 'DESTINATION_AIRPORT', how = 'leftouter')\n",
        "\n",
        "# Examine the new DataFrame\n",
        "print(flights_with_airports.columns)\n",
        "print(flights_with_airports.count())"
      ]
    },
    {
      "cell_type": "code",
      "execution_count": null,
      "id": "0ed2cbc8",
      "metadata": {
        "id": "0ed2cbc8"
      },
      "outputs": [],
      "source": [
        "flights_with_airports.select('FLIGHT_NUMBER', 'AIRPORT', 'CITY', 'STATE', 'COUNTRY', 'LATITUDE', 'LONGITUDE').show(10)"
      ]
    },
    {
      "cell_type": "code",
      "execution_count": null,
      "id": "2cef3225",
      "metadata": {
        "id": "2cef3225"
      },
      "outputs": [],
      "source": [
        "# Read in the airports data\n",
        "airlines = spark.read.csv(['/mnt/c/Users/lokes/Downloads/airlines.csv'], header = True)\n",
        "\n",
        "# Show the data shape\n",
        "print((airlines.count(), len(airlines.columns)))\n",
        "\n",
        "airlines.show()"
      ]
    },
    {
      "cell_type": "markdown",
      "id": "e0862326",
      "metadata": {
        "id": "e0862326"
      },
      "source": [
        "# **USING MLLIB**"
      ]
    },
    {
      "cell_type": "markdown",
      "id": "bqczLF_Q_q0B",
      "metadata": {
        "id": "bqczLF_Q_q0B"
      },
      "source": [
        "### **PREPROCESSING**"
      ]
    },
    {
      "cell_type": "code",
      "execution_count": 28,
      "id": "fdec8137",
      "metadata": {
        "id": "fdec8137"
      },
      "outputs": [
        {
          "name": "stderr",
          "output_type": "stream",
          "text": [
            "ERROR:root:KeyboardInterrupt while sending command.][Stage 16:>   (0 + 0) / 1]\n",
            "Traceback (most recent call last):\n",
            "  File \"/home/lokesh/.local/lib/python3.8/site-packages/py4j/java_gateway.py\", line 1038, in send_command\n",
            "    response = connection.send_command(command)\n",
            "  File \"/home/lokesh/.local/lib/python3.8/site-packages/py4j/clientserver.py\", line 475, in send_command\n",
            "    answer = smart_decode(self.stream.readline()[:-1])\n",
            "  File \"/usr/lib/python3.8/socket.py\", line 669, in readinto\n",
            "    return self._sock.recv_into(b)\n",
            "KeyboardInterrupt\n"
          ]
        },
        {
          "ename": "KeyboardInterrupt",
          "evalue": "",
          "output_type": "error",
          "traceback": [
            "\u001b[0;31m---------------------------------------------------------------------------\u001b[0m",
            "\u001b[0;31mKeyboardInterrupt\u001b[0m                         Traceback (most recent call last)",
            "\u001b[1;32m/mnt/c/Users/lokes/OneDrive/Desktop/Code/bdfprojpyspark_(1).ipynb Cell 31'\u001b[0m in \u001b[0;36m<module>\u001b[0;34m\u001b[0m\n\u001b[1;32m      <a href='vscode-notebook-cell://wsl%2Bubuntu-20.04/mnt/c/Users/lokes/OneDrive/Desktop/Code/bdfprojpyspark_%281%29.ipynb#ch0000031vscode-remote?line=4'>5</a>\u001b[0m model_data \u001b[39m=\u001b[39m model_data\u001b[39m.\u001b[39mfilter(\u001b[39m\"\u001b[39m\u001b[39mARRIVAL_DELAY is not NULL and AIRLINE is not NULL and AIR_TIME is not NULL and TAIL_NUMBER is not NULL\u001b[39m\u001b[39m\"\u001b[39m)\n\u001b[1;32m      <a href='vscode-notebook-cell://wsl%2Bubuntu-20.04/mnt/c/Users/lokes/OneDrive/Desktop/Code/bdfprojpyspark_%281%29.ipynb#ch0000031vscode-remote?line=6'>7</a>\u001b[0m \u001b[39m# rows left\u001b[39;00m\n\u001b[0;32m----> <a href='vscode-notebook-cell://wsl%2Bubuntu-20.04/mnt/c/Users/lokes/OneDrive/Desktop/Code/bdfprojpyspark_%281%29.ipynb#ch0000031vscode-remote?line=7'>8</a>\u001b[0m model_data\u001b[39m.\u001b[39;49mcount()\n",
            "File \u001b[0;32m~/.local/lib/python3.8/site-packages/pyspark/sql/dataframe.py:680\u001b[0m, in \u001b[0;36mDataFrame.count\u001b[0;34m(self)\u001b[0m\n\u001b[1;32m    <a href='file:///home/lokesh/.local/lib/python3.8/site-packages/pyspark/sql/dataframe.py?line=669'>670</a>\u001b[0m \u001b[39mdef\u001b[39;00m \u001b[39mcount\u001b[39m(\u001b[39mself\u001b[39m):\n\u001b[1;32m    <a href='file:///home/lokesh/.local/lib/python3.8/site-packages/pyspark/sql/dataframe.py?line=670'>671</a>\u001b[0m     \u001b[39m\"\"\"Returns the number of rows in this :class:`DataFrame`.\u001b[39;00m\n\u001b[1;32m    <a href='file:///home/lokesh/.local/lib/python3.8/site-packages/pyspark/sql/dataframe.py?line=671'>672</a>\u001b[0m \n\u001b[1;32m    <a href='file:///home/lokesh/.local/lib/python3.8/site-packages/pyspark/sql/dataframe.py?line=672'>673</a>\u001b[0m \u001b[39m    .. versionadded:: 1.3.0\u001b[39;00m\n\u001b[0;32m   (...)\u001b[0m\n\u001b[1;32m    <a href='file:///home/lokesh/.local/lib/python3.8/site-packages/pyspark/sql/dataframe.py?line=677'>678</a>\u001b[0m \u001b[39m    2\u001b[39;00m\n\u001b[1;32m    <a href='file:///home/lokesh/.local/lib/python3.8/site-packages/pyspark/sql/dataframe.py?line=678'>679</a>\u001b[0m \u001b[39m    \"\"\"\u001b[39;00m\n\u001b[0;32m--> <a href='file:///home/lokesh/.local/lib/python3.8/site-packages/pyspark/sql/dataframe.py?line=679'>680</a>\u001b[0m     \u001b[39mreturn\u001b[39;00m \u001b[39mint\u001b[39m(\u001b[39mself\u001b[39;49m\u001b[39m.\u001b[39;49m_jdf\u001b[39m.\u001b[39;49mcount())\n",
            "File \u001b[0;32m~/.local/lib/python3.8/site-packages/py4j/java_gateway.py:1320\u001b[0m, in \u001b[0;36mJavaMember.__call__\u001b[0;34m(self, *args)\u001b[0m\n\u001b[1;32m   <a href='file:///home/lokesh/.local/lib/python3.8/site-packages/py4j/java_gateway.py?line=1312'>1313</a>\u001b[0m args_command, temp_args \u001b[39m=\u001b[39m \u001b[39mself\u001b[39m\u001b[39m.\u001b[39m_build_args(\u001b[39m*\u001b[39margs)\n\u001b[1;32m   <a href='file:///home/lokesh/.local/lib/python3.8/site-packages/py4j/java_gateway.py?line=1314'>1315</a>\u001b[0m command \u001b[39m=\u001b[39m proto\u001b[39m.\u001b[39mCALL_COMMAND_NAME \u001b[39m+\u001b[39m\\\n\u001b[1;32m   <a href='file:///home/lokesh/.local/lib/python3.8/site-packages/py4j/java_gateway.py?line=1315'>1316</a>\u001b[0m     \u001b[39mself\u001b[39m\u001b[39m.\u001b[39mcommand_header \u001b[39m+\u001b[39m\\\n\u001b[1;32m   <a href='file:///home/lokesh/.local/lib/python3.8/site-packages/py4j/java_gateway.py?line=1316'>1317</a>\u001b[0m     args_command \u001b[39m+\u001b[39m\\\n\u001b[1;32m   <a href='file:///home/lokesh/.local/lib/python3.8/site-packages/py4j/java_gateway.py?line=1317'>1318</a>\u001b[0m     proto\u001b[39m.\u001b[39mEND_COMMAND_PART\n\u001b[0;32m-> <a href='file:///home/lokesh/.local/lib/python3.8/site-packages/py4j/java_gateway.py?line=1319'>1320</a>\u001b[0m answer \u001b[39m=\u001b[39m \u001b[39mself\u001b[39;49m\u001b[39m.\u001b[39;49mgateway_client\u001b[39m.\u001b[39;49msend_command(command)\n\u001b[1;32m   <a href='file:///home/lokesh/.local/lib/python3.8/site-packages/py4j/java_gateway.py?line=1320'>1321</a>\u001b[0m return_value \u001b[39m=\u001b[39m get_return_value(\n\u001b[1;32m   <a href='file:///home/lokesh/.local/lib/python3.8/site-packages/py4j/java_gateway.py?line=1321'>1322</a>\u001b[0m     answer, \u001b[39mself\u001b[39m\u001b[39m.\u001b[39mgateway_client, \u001b[39mself\u001b[39m\u001b[39m.\u001b[39mtarget_id, \u001b[39mself\u001b[39m\u001b[39m.\u001b[39mname)\n\u001b[1;32m   <a href='file:///home/lokesh/.local/lib/python3.8/site-packages/py4j/java_gateway.py?line=1323'>1324</a>\u001b[0m \u001b[39mfor\u001b[39;00m temp_arg \u001b[39min\u001b[39;00m temp_args:\n",
            "File \u001b[0;32m~/.local/lib/python3.8/site-packages/py4j/java_gateway.py:1038\u001b[0m, in \u001b[0;36mGatewayClient.send_command\u001b[0;34m(self, command, retry, binary)\u001b[0m\n\u001b[1;32m   <a href='file:///home/lokesh/.local/lib/python3.8/site-packages/py4j/java_gateway.py?line=1035'>1036</a>\u001b[0m connection \u001b[39m=\u001b[39m \u001b[39mself\u001b[39m\u001b[39m.\u001b[39m_get_connection()\n\u001b[1;32m   <a href='file:///home/lokesh/.local/lib/python3.8/site-packages/py4j/java_gateway.py?line=1036'>1037</a>\u001b[0m \u001b[39mtry\u001b[39;00m:\n\u001b[0;32m-> <a href='file:///home/lokesh/.local/lib/python3.8/site-packages/py4j/java_gateway.py?line=1037'>1038</a>\u001b[0m     response \u001b[39m=\u001b[39m connection\u001b[39m.\u001b[39;49msend_command(command)\n\u001b[1;32m   <a href='file:///home/lokesh/.local/lib/python3.8/site-packages/py4j/java_gateway.py?line=1038'>1039</a>\u001b[0m     \u001b[39mif\u001b[39;00m binary:\n\u001b[1;32m   <a href='file:///home/lokesh/.local/lib/python3.8/site-packages/py4j/java_gateway.py?line=1039'>1040</a>\u001b[0m         \u001b[39mreturn\u001b[39;00m response, \u001b[39mself\u001b[39m\u001b[39m.\u001b[39m_create_connection_guard(connection)\n",
            "File \u001b[0;32m~/.local/lib/python3.8/site-packages/py4j/clientserver.py:475\u001b[0m, in \u001b[0;36mClientServerConnection.send_command\u001b[0;34m(self, command)\u001b[0m\n\u001b[1;32m    <a href='file:///home/lokesh/.local/lib/python3.8/site-packages/py4j/clientserver.py?line=472'>473</a>\u001b[0m \u001b[39mtry\u001b[39;00m:\n\u001b[1;32m    <a href='file:///home/lokesh/.local/lib/python3.8/site-packages/py4j/clientserver.py?line=473'>474</a>\u001b[0m     \u001b[39mwhile\u001b[39;00m \u001b[39mTrue\u001b[39;00m:\n\u001b[0;32m--> <a href='file:///home/lokesh/.local/lib/python3.8/site-packages/py4j/clientserver.py?line=474'>475</a>\u001b[0m         answer \u001b[39m=\u001b[39m smart_decode(\u001b[39mself\u001b[39;49m\u001b[39m.\u001b[39;49mstream\u001b[39m.\u001b[39;49mreadline()[:\u001b[39m-\u001b[39m\u001b[39m1\u001b[39m])\n\u001b[1;32m    <a href='file:///home/lokesh/.local/lib/python3.8/site-packages/py4j/clientserver.py?line=475'>476</a>\u001b[0m         logger\u001b[39m.\u001b[39mdebug(\u001b[39m\"\u001b[39m\u001b[39mAnswer received: \u001b[39m\u001b[39m{0}\u001b[39;00m\u001b[39m\"\u001b[39m\u001b[39m.\u001b[39mformat(answer))\n\u001b[1;32m    <a href='file:///home/lokesh/.local/lib/python3.8/site-packages/py4j/clientserver.py?line=476'>477</a>\u001b[0m         \u001b[39m# Happens when a the other end is dead. There might be an empty\u001b[39;00m\n\u001b[1;32m    <a href='file:///home/lokesh/.local/lib/python3.8/site-packages/py4j/clientserver.py?line=477'>478</a>\u001b[0m         \u001b[39m# answer before the socket raises an error.\u001b[39;00m\n",
            "File \u001b[0;32m/usr/lib/python3.8/socket.py:669\u001b[0m, in \u001b[0;36mSocketIO.readinto\u001b[0;34m(self, b)\u001b[0m\n\u001b[1;32m    <a href='file:///usr/lib/python3.8/socket.py?line=666'>667</a>\u001b[0m \u001b[39mwhile\u001b[39;00m \u001b[39mTrue\u001b[39;00m:\n\u001b[1;32m    <a href='file:///usr/lib/python3.8/socket.py?line=667'>668</a>\u001b[0m     \u001b[39mtry\u001b[39;00m:\n\u001b[0;32m--> <a href='file:///usr/lib/python3.8/socket.py?line=668'>669</a>\u001b[0m         \u001b[39mreturn\u001b[39;00m \u001b[39mself\u001b[39;49m\u001b[39m.\u001b[39;49m_sock\u001b[39m.\u001b[39;49mrecv_into(b)\n\u001b[1;32m    <a href='file:///usr/lib/python3.8/socket.py?line=669'>670</a>\u001b[0m     \u001b[39mexcept\u001b[39;00m timeout:\n\u001b[1;32m    <a href='file:///usr/lib/python3.8/socket.py?line=670'>671</a>\u001b[0m         \u001b[39mself\u001b[39m\u001b[39m.\u001b[39m_timeout_occurred \u001b[39m=\u001b[39m \u001b[39mTrue\u001b[39;00m\n",
            "\u001b[0;31mKeyboardInterrupt\u001b[0m: "
          ]
        }
      ],
      "source": [
        "# filtering columns\n",
        "model_data = flights.select('MONTH', 'DAY_OF_WEEK', 'AIRLINE', 'TAIL_NUMBER', 'DESTINATION_AIRPORT', 'AIR_TIME', 'DISTANCE', 'ARRIVAL_DELAY',)\n",
        "\n",
        "# Remove missing values\n",
        "model_data = model_data.filter(\"ARRIVAL_DELAY is not NULL and AIRLINE is not NULL and AIR_TIME is not NULL and TAIL_NUMBER is not NULL\")\n",
        "\n",
        "# rows left\n",
        "model_data.count()"
      ]
    },
    {
      "cell_type": "code",
      "execution_count": null,
      "id": "9ac4c0cc",
      "metadata": {
        "id": "9ac4c0cc"
      },
      "outputs": [],
      "source": [
        "# Create is_late (label)\n",
        "model_data = model_data.withColumn(\"is_late\", model_data.ARRIVAL_DELAY > 0)\n",
        "\n",
        "# cast\n",
        "model_data = model_data.withColumn(\"is_late\", model_data.is_late.cast(\"integer\"))\n",
        "\n",
        "# rename column\n",
        "model_data = model_data.withColumnRenamed(\"is_late\", 'label')"
      ]
    },
    {
      "cell_type": "code",
      "execution_count": null,
      "id": "53ab953a",
      "metadata": {
        "id": "53ab953a"
      },
      "outputs": [],
      "source": [
        "model_data.show(15)"
      ]
    },
    {
      "cell_type": "code",
      "execution_count": null,
      "id": "6aa6c2ab",
      "metadata": {
        "id": "6aa6c2ab"
      },
      "outputs": [],
      "source": [
        "print('Labels distrubution:')\n",
        "model_data.groupBy('label').count().show()"
      ]
    },
    {
      "cell_type": "code",
      "execution_count": null,
      "id": "87ce7e69",
      "metadata": {
        "id": "87ce7e69"
      },
      "outputs": [],
      "source": [
        "from pyspark.ml.feature import OneHotEncoder, StringIndexer\n",
        "from pyspark.ml.feature import HashingTF, IDF, Tokenizer\n",
        "\n",
        "# Create a StringIndexer\n",
        "airline_indexer = StringIndexer(inputCol=\"AIRLINE\", outputCol=\"airline_index\")\n",
        "\n",
        "# Create a OneHotEncoder\n",
        "airline_encoder = OneHotEncoder(inputCol=\"airline_index\", outputCol=\"airline_fact\")"
      ]
    },
    {
      "cell_type": "code",
      "execution_count": null,
      "id": "185a534f",
      "metadata": {
        "id": "185a534f"
      },
      "outputs": [],
      "source": [
        "# Create a StringIndexer\n",
        "dest_indexer = StringIndexer(inputCol=\"DESTINATION_AIRPORT\", outputCol=\"dest_index\")\n",
        "\n",
        "# Create a OneHotEncoder\n",
        "dest_encoder = OneHotEncoder(inputCol=\"dest_index\", outputCol=\"dest_fact\")"
      ]
    },
    {
      "cell_type": "code",
      "execution_count": null,
      "id": "e5d134f1",
      "metadata": {
        "id": "e5d134f1"
      },
      "outputs": [],
      "source": [
        "# Create a StringIndexer\n",
        "tail_indexer = StringIndexer(inputCol=\"TAIL_NUMBER\", outputCol=\"tail_index\")\n",
        "\n",
        "# Create a OneHotEncoder\n",
        "tail_encoder = OneHotEncoder(inputCol=\"tail_index\", outputCol=\"tail_fact\")"
      ]
    },
    {
      "cell_type": "code",
      "execution_count": null,
      "id": "107e57c9",
      "metadata": {
        "id": "107e57c9"
      },
      "outputs": [],
      "source": [
        "from pyspark.ml.feature import VectorAssembler\n",
        "\n",
        "# Make a VectorAssembler of 'MONTH', 'DAY_OF_WEEK', 'AIR_TIME', 'DISTANCE', 'ARRIVAL_DELAY','AIRLINE', 'TAIL_NUMBER', 'DESTINATION_AIRPORT'\n",
        "vec_assembler = VectorAssembler(inputCols=[\"MONTH\", \"DAY_OF_WEEK\", \"AIR_TIME\", \"DISTANCE\", \"airline_fact\", \"dest_fact\", \"tail_fact\"], outputCol=\"features\")"
      ]
    },
    {
      "cell_type": "code",
      "execution_count": null,
      "id": "8d23f22e",
      "metadata": {
        "id": "8d23f22e"
      },
      "outputs": [],
      "source": [
        " # Import Pipeline\n",
        "from pyspark.ml import Pipeline\n",
        "\n",
        "# Make the pipeline\n",
        "flights_pipe = Pipeline(stages=[dest_indexer, dest_encoder, airline_indexer, airline_encoder, tail_indexer, tail_encoder, vec_assembler])"
      ]
    },
    {
      "cell_type": "code",
      "execution_count": null,
      "id": "1d629de4",
      "metadata": {
        "id": "1d629de4"
      },
      "outputs": [],
      "source": [
        "piped_data = flights_pipe.fit(model_data).transform(model_data)"
      ]
    },
    {
      "cell_type": "markdown",
      "id": "5TbAyjSX40SQ",
      "metadata": {
        "id": "5TbAyjSX40SQ"
      },
      "source": [
        "# **TRAIN - TEST SPLIT**"
      ]
    },
    {
      "cell_type": "code",
      "execution_count": null,
      "id": "8de75e5b",
      "metadata": {
        "id": "8de75e5b"
      },
      "outputs": [],
      "source": [
        "train_data, test_data = piped_data.randomSplit([.7, .3])"
      ]
    },
    {
      "cell_type": "code",
      "execution_count": null,
      "id": "1f3b6f70",
      "metadata": {
        "id": "1f3b6f70"
      },
      "outputs": [],
      "source": [
        "print('data points(rows) in train data :',  train_data.count())\n",
        "print('data points(rows) in test data :',  test_data.count())"
      ]
    },
    {
      "cell_type": "code",
      "execution_count": null,
      "id": "SsdLHmII0PmG",
      "metadata": {
        "id": "SsdLHmII0PmG"
      },
      "outputs": [],
      "source": [
        "from pyspark.ml.classification import LogisticRegression\n",
        "from pyspark.ml.classification import LinearSVC\n",
        "from pyspark.ml.classification import DecisionTreeClassifier\n",
        "from pyspark.ml.classification import RandomForestClassifier\n",
        "\n",
        "import pyspark.ml.tuning as tune\n",
        "from time import time\n",
        "import pyspark.ml.evaluation as evals\n",
        "\n",
        "# Create a BinaryClassificationEvaluator\n",
        "evaluator = evals.BinaryClassificationEvaluator(metricName=\"areaUnderROC\")"
      ]
    },
    {
      "cell_type": "code",
      "execution_count": null,
      "id": "35ij9lke07w2",
      "metadata": {
        "id": "35ij9lke07w2"
      },
      "outputs": [],
      "source": [
        "start_time = time() \n",
        "\n",
        "# Train a LogisticRegression model\n",
        "lr = LogisticRegression()\n",
        "\n",
        "lr_model = lr.fit(train_data)\n",
        "\n",
        "end_time = time()\n",
        "elapsed_time_lr = end_time - start_time\n",
        "print(\"Time to train LogisticRegression model: %.3f seconds\" % elapsed_time_lr)\n",
        "\n",
        "#elapsed_time_lr1 = end_time - start_time\n",
        "#print(\"Time to train LogisticRegression model: %.3f seconds\" % elapsed_time_lr1)"
      ]
    },
    {
      "cell_type": "code",
      "execution_count": null,
      "id": "zNy1zSYc04b4",
      "metadata": {
        "id": "zNy1zSYc04b4"
      },
      "outputs": [],
      "source": [
        "start_time = time() \n",
        "\n",
        "# Train a Linear SVC model\n",
        "lsvc= LinearSVC()\n",
        "\n",
        "lsvc_model = lsvc.fit(train_data)\n",
        "\n",
        "end_time = time()\n",
        "elapsed_time_lsvc = end_time - start_time\n",
        "print(\"Time to train LinearSVC model: %.3f seconds\" % elapsed_time_lsvc)\n",
        "\n",
        "#elapsed_time_lsvc1 = end_time - start_time\n",
        "#print(\"Time to train LinearSVC model: %.3f seconds\" % elapsed_time_lsvc1)"
      ]
    },
    {
      "cell_type": "code",
      "execution_count": null,
      "id": "phlskoAJ031C",
      "metadata": {
        "id": "phlskoAJ031C"
      },
      "outputs": [],
      "source": [
        "start_time = time() \n",
        "\n",
        "# Train a DecisionTree model\n",
        "dt = DecisionTreeClassifier()\n",
        "\n",
        "model_dt = dt.fit(train_data)\n",
        "\n",
        "end_time = time()\n",
        "elapsed_time_dt = end_time - start_time\n",
        "print(\"Time to train DecisionTree model: %.3f seconds\" % elapsed_time_dt)\n",
        "\n",
        "#elapsed_time_dt1 = end_time - start_time\n",
        "#print(\"Time to train DecisionTree model: %.3f seconds\" % elapsed_time_dt1)"
      ]
    },
    {
      "cell_type": "code",
      "execution_count": null,
      "id": "rr1cJX0d5X_N",
      "metadata": {
        "id": "rr1cJX0d5X_N"
      },
      "outputs": [],
      "source": [
        "start_time = time() \n",
        "\n",
        "# Train a RandomForest model\n",
        "rf = RandomForestClassifier() \n",
        "\n",
        "model_rf = rf.fit(train_data)\n",
        "\n",
        "end_time = time()\n",
        "elapsed_time_rf = end_time - start_time\n",
        "print(\"Time to train RandomForest model: %.3f seconds\" % elapsed_time_rf)\n",
        "\n",
        "#elapsed_time_rf1 = end_time - start_time\n",
        "#print(\"Time to train RandomForest model: %.3f seconds\" % elapsed_time_rf1)"
      ]
    },
    {
      "cell_type": "code",
      "execution_count": null,
      "id": "_C4iLGUwsQLF",
      "metadata": {
        "id": "_C4iLGUwsQLF"
      },
      "outputs": [],
      "source": []
    },
    {
      "cell_type": "markdown",
      "id": "MJ_vQKoh-gO2",
      "metadata": {
        "id": "MJ_vQKoh-gO2"
      },
      "source": [
        "# **LOGISTIC REGRESSION**"
      ]
    },
    {
      "cell_type": "code",
      "execution_count": null,
      "id": "bea398a8",
      "metadata": {
        "id": "bea398a8"
      },
      "outputs": [],
      "source": [
        "# Import LogisticRegression\n",
        "from pyspark.ml.classification import LogisticRegression\n",
        "\n",
        "# Create a LogisticRegression Estimator\n",
        "lr = LogisticRegression()"
      ]
    },
    {
      "cell_type": "code",
      "execution_count": null,
      "id": "e5583f2f",
      "metadata": {
        "id": "e5583f2f"
      },
      "outputs": [],
      "source": [
        "# Import the evaluation submodule\n",
        "import pyspark.ml.evaluation as evals\n",
        "\n",
        "# Create a BinaryClassificationEvaluator\n",
        "evaluator = evals.BinaryClassificationEvaluator(metricName=\"areaUnderROC\")"
      ]
    },
    {
      "cell_type": "code",
      "execution_count": null,
      "id": "f41892cd",
      "metadata": {
        "id": "f41892cd"
      },
      "outputs": [],
      "source": [
        "# Import the tuning submodule\n",
        "import pyspark.ml.tuning as tune\n",
        "\n",
        "# Create the parameter grid\n",
        "grid1 = tune.ParamGridBuilder()\n",
        "\n",
        "# Add the hyperparameter\n",
        "grid1 = grid1.addGrid(lr.regParam, np.arange(0, .1, .01))\n",
        "grid1 = grid1.addGrid(lr.elasticNetParam, [0, 1])\n",
        "\n",
        "# Build the grid\n",
        "grid1 = grid1.build()"
      ]
    },
    {
      "cell_type": "code",
      "execution_count": null,
      "id": "48497533",
      "metadata": {
        "id": "48497533"
      },
      "outputs": [],
      "source": [
        "# Create the CrossValidator\n",
        "cv = tune.CrossValidator(estimator=lr,\n",
        "               estimatorParamMaps=grid1,\n",
        "               evaluator=evaluator)"
      ]
    },
    {
      "cell_type": "code",
      "execution_count": null,
      "id": "1da0f4e5",
      "metadata": {
        "id": "1da0f4e5"
      },
      "outputs": [],
      "source": [
        "# Call lr.fit()\n",
        "best_lr = lr.fit(train_data)\n",
        "\n",
        "# Print best_lr\n",
        "print(best_lr)"
      ]
    },
    {
      "cell_type": "code",
      "execution_count": null,
      "id": "19ca18b0",
      "metadata": {
        "id": "19ca18b0"
      },
      "outputs": [],
      "source": [
        "# Use the model to predict the test set\n",
        "test_results = best_lr.transform(test_data)\n",
        "\n",
        "# Evaluate the predictions\n",
        "print(evaluator.evaluate(test_results))"
      ]
    },
    {
      "cell_type": "markdown",
      "id": "dvjtinlb-XfZ",
      "metadata": {
        "id": "dvjtinlb-XfZ"
      },
      "source": [
        "# **LINEAR SVC**"
      ]
    },
    {
      "cell_type": "code",
      "execution_count": null,
      "id": "ddbb8e6a",
      "metadata": {
        "id": "ddbb8e6a"
      },
      "outputs": [],
      "source": [
        "from pyspark.ml.classification import LinearSVC\n",
        "\n",
        "lsvc= LinearSVC()"
      ]
    },
    {
      "cell_type": "code",
      "execution_count": null,
      "id": "40bc1d26",
      "metadata": {
        "id": "40bc1d26"
      },
      "outputs": [],
      "source": [
        "# Import the evaluation submodule\n",
        "import pyspark.ml.evaluation as evals\n",
        "\n",
        "# Create a BinaryClassificationEvaluator\n",
        "evaluator = evals.BinaryClassificationEvaluator(metricName=\"areaUnderROC\")"
      ]
    },
    {
      "cell_type": "code",
      "execution_count": null,
      "id": "0c544c39",
      "metadata": {
        "id": "0c544c39"
      },
      "outputs": [],
      "source": [
        "# Import the tuning submodule\n",
        "import pyspark.ml.tuning as tune\n",
        "\n",
        "# Create the parameter grid\n",
        "grid2 = tune.ParamGridBuilder()\n",
        "\n",
        "# Add the hyperparameter\n",
        "grid2 = grid2.addGrid(lsvc.regParam, np.arange(0, .1, .01))\n",
        "\n",
        "\n",
        "# Build the grid\n",
        "grid2 = grid2.build()"
      ]
    },
    {
      "cell_type": "code",
      "execution_count": null,
      "id": "b0ec3460",
      "metadata": {
        "id": "b0ec3460"
      },
      "outputs": [],
      "source": [
        "# Create the CrossValidator\n",
        "cv = tune.CrossValidator(estimator=lsvc,\n",
        "               estimatorParamMaps=grid2,\n",
        "               evaluator=evaluator)"
      ]
    },
    {
      "cell_type": "code",
      "execution_count": null,
      "id": "a1382c29",
      "metadata": {
        "id": "a1382c29"
      },
      "outputs": [],
      "source": [
        "# Call lsvc.fit()\n",
        "best_lsvc = lsvc.fit(train_data)\n",
        "\n",
        "# Print best_lr\n",
        "print(best_lsvc)"
      ]
    },
    {
      "cell_type": "code",
      "execution_count": null,
      "id": "9a9c8bc4",
      "metadata": {
        "id": "9a9c8bc4"
      },
      "outputs": [],
      "source": [
        "# Use the model to predict the test set\n",
        "test_results = best_lsvc.transform(test_data)\n",
        "\n",
        "# Evaluate the predictions\n",
        "print(evaluator.evaluate(test_results))"
      ]
    },
    {
      "cell_type": "markdown",
      "id": "zaynnVms-sPX",
      "metadata": {
        "id": "zaynnVms-sPX"
      },
      "source": [
        "# **DECISION TREE**"
      ]
    },
    {
      "cell_type": "code",
      "execution_count": null,
      "id": "3a78f449",
      "metadata": {
        "id": "3a78f449"
      },
      "outputs": [],
      "source": [
        "from pyspark.ml.classification import DecisionTreeClassifier\n",
        "dt = DecisionTreeClassifier()\n",
        "\n",
        "\n",
        "# Import the evaluation submodule\n",
        "import pyspark.ml.evaluation as evals\n",
        "\n",
        "# Create a BinaryClassificationEvaluator\n",
        "evaluator = evals.BinaryClassificationEvaluator(metricName=\"areaUnderROC\")\n",
        "\n",
        "# Import the tuning submodule\n",
        "import pyspark.ml.tuning as tune\n",
        "\n",
        "# Create the parameter grid\n",
        "grid3 = tune.ParamGridBuilder()\n",
        "\n",
        "# Build the grid\n",
        "grid3 = grid3.build()\n",
        "\n",
        "# Create the CrossValidator\n",
        "cv = tune.CrossValidator(estimator=dt,\n",
        "               estimatorParamMaps=grid3,\n",
        "               evaluator=evaluator)\n",
        "\n",
        "\n",
        "# Call dt.fit()\n",
        "best_dt = dt.fit(train_data)\n",
        "\n",
        "# Print best_dt\n",
        "print(best_dt)\n",
        "\n",
        "\n",
        "# Use the model to predict the test set\n",
        "test_results = best_dt.transform(test_data)\n",
        "\n",
        "# Evaluate the predictions\n",
        "print(evaluator.evaluate(test_results))"
      ]
    },
    {
      "cell_type": "markdown",
      "id": "oV-xxphw-24A",
      "metadata": {
        "id": "oV-xxphw-24A"
      },
      "source": [
        "# **RANDOM FOREST CLASSIFIER**"
      ]
    },
    {
      "cell_type": "code",
      "execution_count": null,
      "id": "a9c82337",
      "metadata": {
        "id": "a9c82337"
      },
      "outputs": [],
      "source": [
        "from pyspark.ml.classification import RandomForestClassifier\n",
        "import pyspark.ml.tuning as tune\n",
        "from time import time\n",
        "import pyspark.ml.evaluation as evals\n",
        "\n",
        "\n",
        "# Create a BinaryClassificationEvaluator\n",
        "evaluator = evals.BinaryClassificationEvaluator(metricName=\"areaUnderROC\")\n",
        "\n",
        "\n",
        "rf = RandomForestClassifier()\n",
        "\n",
        "\n",
        "# Create the parameter grid\n",
        "grid4 = tune.ParamGridBuilder()\n",
        "\n",
        "# Build the grid\n",
        "grid4 = grid4.build()\n",
        "\n",
        "# Create the CrossValidator\n",
        "cv = tune.CrossValidator(estimator=rf,\n",
        "               estimatorParamMaps=grid4,\n",
        "               evaluator=evaluator)\n",
        "\n",
        "\n",
        "# Call rf.fit()\n",
        "start_time = time()\n",
        "\n",
        "best_rf = rf.fit(train_data)\n",
        "\n",
        "end_time = time()\n",
        "elapsed_time = end_time - start_time\n",
        "print(\"Time to train model: %.3f seconds\" % elapsed_time)\n",
        "\n",
        "# Print best_rf\n",
        "print(best_rf)\n",
        "\n"
      ]
    },
    {
      "cell_type": "code",
      "execution_count": null,
      "id": "MwOq_QKNduwL",
      "metadata": {
        "id": "MwOq_QKNduwL"
      },
      "outputs": [],
      "source": [
        "# Use the model to predict the test set\n",
        "s = time()\n",
        "test_results = best_rf.transform(test_data)\n",
        "e= time()\n",
        "elapsed_time = e-s\n",
        "print(\"Time to test model: %.3f seconds\" % elapsed_time)\n",
        "\n",
        "# Evaluate the predictions\n",
        "print(evaluator.evaluate(test_results))"
      ]
    },
    {
      "cell_type": "code",
      "execution_count": null,
      "id": "CGGlvntVyRyy",
      "metadata": {
        "id": "CGGlvntVyRyy"
      },
      "outputs": [],
      "source": [
        "from pyspark.ml.classification import RandomForestClassifier\n",
        "from time import time\n",
        "\n",
        "start_time = time() \n",
        "\n",
        "# Train a RandomForest model\n",
        "rf = RandomForestClassifier(labelCol=\"label\", \n",
        "     featuresCol=\"features\", \n",
        "     numTrees=500,\n",
        "     maxDepth=3, \n",
        "     seed = 1,\n",
        "     featureSubsetStrategy=\"sqrt\",\n",
        "     impurity='gini') \n",
        "\n",
        "model = rf.fit(train_data)\n",
        "\n",
        "end_time = time()\n",
        "elapsed_time = end_time - start_time\n",
        "print(\"Time to train model: %.3f seconds\" % elapsed_time)"
      ]
    },
    {
      "cell_type": "code",
      "execution_count": null,
      "id": "dKRyIy5j7lXu",
      "metadata": {
        "id": "dKRyIy5j7lXu"
      },
      "outputs": [],
      "source": [
        "# Create the parameter grid\n",
        "grid4 = tune.ParamGridBuilder()\n",
        "\n",
        "# Build the grid\n",
        "grid4 = grid4.build()\n",
        "\n",
        "# Create the CrossValidator\n",
        "cv = tune.CrossValidator(estimator=rf,\n",
        "               estimatorParamMaps=grid4,\n",
        "               evaluator=evaluator)\n",
        "\n",
        "\n",
        "# Call rf.fit()\n",
        "best_rf = rf.fit(train_data)\n",
        "\n",
        "# Print best_rf\n",
        "print(best_rf)\n",
        "\n",
        "# Use the model to predict the test set\n",
        "test_results = best_rf.transform(test_data)\n",
        "\n",
        "# Evaluate the predictions\n",
        "print(evaluator.evaluate(test_results))"
      ]
    },
    {
      "cell_type": "code",
      "execution_count": null,
      "id": "wqr_VY9hkTy_",
      "metadata": {
        "id": "wqr_VY9hkTy_"
      },
      "outputs": [],
      "source": []
    }
  ],
  "metadata": {
    "accelerator": "GPU",
    "colab": {
      "collapsed_sections": [],
      "name": "bdfprojpyspark (1).ipynb",
      "provenance": []
    },
    "kernelspec": {
      "display_name": "Python 3",
      "language": "python",
      "name": "python3"
    },
    "language_info": {
      "codemirror_mode": {
        "name": "ipython",
        "version": 3
      },
      "file_extension": ".py",
      "mimetype": "text/x-python",
      "name": "python",
      "nbconvert_exporter": "python",
      "pygments_lexer": "ipython3",
      "version": "3.8.10"
    },
    "papermill": {
      "default_parameters": {},
      "duration": 4334.874432,
      "end_time": "2022-03-20T14:23:28.384542",
      "environment_variables": {},
      "exception": null,
      "input_path": "__notebook__.ipynb",
      "output_path": "__notebook__.ipynb",
      "parameters": {},
      "start_time": "2022-03-20T13:11:13.510110",
      "version": "2.3.3"
    }
  },
  "nbformat": 4,
  "nbformat_minor": 5
}
